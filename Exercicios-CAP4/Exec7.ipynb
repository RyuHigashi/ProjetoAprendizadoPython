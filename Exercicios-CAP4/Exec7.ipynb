{
 "cells": [
  {
   "cell_type": "code",
   "execution_count": 2,
   "id": "a4e73d48",
   "metadata": {},
   "outputs": [],
   "source": [
    "dictionaire = {'chave1': 0, 'chave2': 1, 'chave3': 2}"
   ]
  },
  {
   "cell_type": "code",
   "execution_count": 5,
   "id": "b7a2b93f",
   "metadata": {},
   "outputs": [],
   "source": [
    "dictionaire['chave4'] = 3"
   ]
  },
  {
   "cell_type": "code",
   "execution_count": 6,
   "id": "b7ee2388",
   "metadata": {},
   "outputs": [
    {
     "data": {
      "text/plain": [
       "{'chave1': 0, 'chave2': 1, 'chave3': 2, 'chave4': 3}"
      ]
     },
     "execution_count": 6,
     "metadata": {},
     "output_type": "execute_result"
    }
   ],
   "source": [
    "dictionaire"
   ]
  }
 ],
 "metadata": {
  "kernelspec": {
   "display_name": "Python 3",
   "language": "python",
   "name": "python3"
  },
  "language_info": {
   "codemirror_mode": {
    "name": "ipython",
    "version": 3
   },
   "file_extension": ".py",
   "mimetype": "text/x-python",
   "name": "python",
   "nbconvert_exporter": "python",
   "pygments_lexer": "ipython3",
   "version": "3.13.3"
  }
 },
 "nbformat": 4,
 "nbformat_minor": 5
}
