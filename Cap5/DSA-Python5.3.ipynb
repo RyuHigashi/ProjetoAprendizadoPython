{
 "cells": [
  {
   "cell_type": "markdown",
   "id": "b4794a1f",
   "metadata": {},
   "source": []
  },
  {
   "cell_type": "markdown",
   "id": "f976d817",
   "metadata": {},
   "source": [
    "***Capitulo 5 - Loop While***"
   ]
  },
  {
   "cell_type": "code",
   "execution_count": 2,
   "id": "734a5314",
   "metadata": {},
   "outputs": [
    {
     "name": "stdout",
     "output_type": "stream",
     "text": [
      "0\n",
      "1\n",
      "2\n",
      "3\n",
      "4\n",
      "5\n",
      "6\n",
      "7\n",
      "8\n",
      "9\n"
     ]
    }
   ],
   "source": [
    "# Usando o loop while para imprimir os valores de 0 a 9\n",
    "# A condição tem que deixar de ser verdadeira dentro do loop, senão pode travar o navegador ou mesmo o computador\n",
    "\n",
    "valor = 0\n",
    "while valor < 10:\n",
    "    print(valor)\n",
    "    valor += 1"
   ]
  },
  {
   "cell_type": "code",
   "execution_count": 5,
   "id": "4dd05817",
   "metadata": {},
   "outputs": [],
   "source": [
    "# Entra no loop somente se a condição for verdadeira\n",
    "valor = 11\n",
    "while valor < 10:\n",
    "    print(valor)\n",
    "    valor += 1"
   ]
  },
  {
   "cell_type": "code",
   "execution_count": 7,
   "id": "097ef5ab",
   "metadata": {},
   "outputs": [
    {
     "name": "stdout",
     "output_type": "stream",
     "text": [
      "O valor de x é:  0\n",
      "0 ainda é menor que 10, somando 1 a 0\n",
      "O valor de x é:  1\n",
      "1 ainda é menor que 10, somando 1 a 1\n",
      "O valor de x é:  2\n",
      "2 ainda é menor que 10, somando 1 a 2\n",
      "O valor de x é:  3\n",
      "3 ainda é menor que 10, somando 1 a 3\n",
      "O valor de x é:  4\n",
      "4 ainda é menor que 10, somando 1 a 4\n",
      "O valor de x é:  5\n",
      "5 ainda é menor que 10, somando 1 a 5\n",
      "O valor de x é:  6\n",
      "6 ainda é menor que 10, somando 1 a 6\n",
      "O valor de x é:  7\n",
      "7 ainda é menor que 10, somando 1 a 7\n",
      "O valor de x é:  8\n",
      "8 ainda é menor que 10, somando 1 a 8\n",
      "O valor de x é:  9\n",
      "9 ainda é menor que 10, somando 1 a 9\n",
      "Loop Concluído!\n",
      "10\n"
     ]
    }
   ],
   "source": [
    "# Também é possivel usar a clausula else com o while\n",
    "\n",
    "x = 0\n",
    "\n",
    "while x < 10:\n",
    "    print(\"O valor de x é: \", x)\n",
    "    print(f\"{x} ainda é menor que 10, somando 1 a {x}\")\n",
    "    x += 1\n",
    "else:\n",
    "    print(\"Loop Concluído!\")\n",
    "print(x)"
   ]
  },
  {
   "cell_type": "markdown",
   "id": "6ed81ce2",
   "metadata": {},
   "source": [
    "***Pass, Break, Continue***"
   ]
  },
  {
   "cell_type": "code",
   "execution_count": 8,
   "id": "51d94d74",
   "metadata": {},
   "outputs": [
    {
     "name": "stdout",
     "output_type": "stream",
     "text": [
      "0\n",
      "1\n",
      "2\n",
      "3\n"
     ]
    }
   ],
   "source": [
    "# Se encontramos o numero 4 interrompemos o loop com o break\n",
    "\n",
    "valor = 0\n",
    "while valor < 10:\n",
    "    if valor == 4:\n",
    "        break\n",
    "    else:\n",
    "        pass\n",
    "    print(valor)\n",
    "    valor += 1"
   ]
  },
  {
   "cell_type": "code",
   "execution_count": 9,
   "id": "80c420c6",
   "metadata": {},
   "outputs": [
    {
     "name": "stdout",
     "output_type": "stream",
     "text": [
      "P\n",
      "y\n",
      "t\n",
      "h\n",
      "o\n",
      "n\n",
      " \n",
      "é\n",
      " \n",
      " \n",
      "i\n",
      "n\n",
      "c\n",
      "r\n",
      "i\n",
      "v\n",
      "e\n",
      "l\n",
      "!\n"
     ]
    }
   ],
   "source": [
    "# Desconsideramos a letra z ao imprimir os caracteres da frase\n",
    "for letra in 'Python é zzz incrivel!':\n",
    "    if letra == 'z':\n",
    "        continue\n",
    "    print(letra)"
   ]
  },
  {
   "cell_type": "markdown",
   "id": "9add6d51",
   "metadata": {},
   "source": [
    "**While e For juntos**"
   ]
  },
  {
   "cell_type": "code",
   "execution_count": 11,
   "id": "5e791c00",
   "metadata": {},
   "outputs": [
    {
     "name": "stdout",
     "output_type": "stream",
     "text": [
      "[2, 3, 5, 7, 11, 13, 17, 19, 23, 29, 31, 37, 41, 43, 47, 53, 59, 61, 67, 71, 73, 79, 83, 89, 97, 101, 103, 107, 109, 113, 127, 131, 137, 139, 149, 151, 157, 163, 167, 173, 179, 181, 191, 193, 197, 199, 211, 223, 227, 229, 233, 239, 241, 251, 257, 263, 269, 271, 277, 281, 283, 293, 307, 311, 313, 317, 331, 337, 347, 349]\n"
     ]
    }
   ],
   "source": [
    "primos = []\n",
    "\n",
    "for num in range (2, 350):\n",
    "\n",
    "    eh_primo = True\n",
    "    i = 2\n",
    "    while i <= num / 2:\n",
    "        if num % i == 0:\n",
    "            eh_primo = False\n",
    "            break\n",
    "        i += 1\n",
    "\n",
    "    if eh_primo:\n",
    "        primos.append(num)\n",
    "\n",
    "print(primos)\n"
   ]
  }
 ],
 "metadata": {
  "kernelspec": {
   "display_name": "Python 3",
   "language": "python",
   "name": "python3"
  },
  "language_info": {
   "codemirror_mode": {
    "name": "ipython",
    "version": 3
   },
   "file_extension": ".py",
   "mimetype": "text/x-python",
   "name": "python",
   "nbconvert_exporter": "python",
   "pygments_lexer": "ipython3",
   "version": "3.13.7"
  }
 },
 "nbformat": 4,
 "nbformat_minor": 5
}
