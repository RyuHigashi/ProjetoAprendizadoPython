{
 "cells": [
  {
   "cell_type": "code",
   "execution_count": 2,
   "id": "d6a84939",
   "metadata": {},
   "outputs": [],
   "source": [
    "string1 = \"Hello\"\n",
    "string2 = \"World\"\n",
    "\n",
    "string3 = string1 + \" \" + string2"
   ]
  },
  {
   "cell_type": "code",
   "execution_count": 3,
   "id": "e0fdb7b0",
   "metadata": {},
   "outputs": [
    {
     "data": {
      "text/plain": [
       "'Hello World'"
      ]
     },
     "execution_count": 3,
     "metadata": {},
     "output_type": "execute_result"
    }
   ],
   "source": [
    "string3"
   ]
  },
  {
   "cell_type": "code",
   "execution_count": null,
   "id": "1438ad00",
   "metadata": {},
   "outputs": [],
   "source": []
  }
 ],
 "metadata": {
  "kernelspec": {
   "display_name": "Python 3",
   "language": "python",
   "name": "python3"
  },
  "language_info": {
   "codemirror_mode": {
    "name": "ipython",
    "version": 3
   },
   "file_extension": ".py",
   "mimetype": "text/x-python",
   "name": "python",
   "nbconvert_exporter": "python",
   "pygments_lexer": "ipython3",
   "version": "3.13.3"
  }
 },
 "nbformat": 4,
 "nbformat_minor": 5
}
