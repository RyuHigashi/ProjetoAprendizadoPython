{
 "cells": [
  {
   "cell_type": "code",
   "execution_count": 3,
   "id": "f649267a",
   "metadata": {},
   "outputs": [],
   "source": [
    "lista4 = ['Ryu', (1, 2), {'key1': 1, 'key2': 2 }, 4.5]"
   ]
  },
  {
   "cell_type": "code",
   "execution_count": 4,
   "id": "6de459e3",
   "metadata": {},
   "outputs": [
    {
     "data": {
      "text/plain": [
       "['Ryu', (1, 2), {'key1': 1, 'key2': 2}, 4.5]"
      ]
     },
     "execution_count": 4,
     "metadata": {},
     "output_type": "execute_result"
    }
   ],
   "source": [
    "lista4"
   ]
  },
  {
   "cell_type": "code",
   "execution_count": 7,
   "id": "02f2bdb2",
   "metadata": {},
   "outputs": [
    {
     "name": "stdout",
     "output_type": "stream",
     "text": [
      "<class 'str'>\n",
      "<class 'tuple'>\n",
      "<class 'dict'>\n",
      "<class 'float'>\n"
     ]
    }
   ],
   "source": [
    "print(type(lista4[0]))\n",
    "print(type(lista4[1]))\n",
    "print(type(lista4[2]))\n",
    "print(type(lista4[3]))"
   ]
  }
 ],
 "metadata": {
  "kernelspec": {
   "display_name": "Python 3",
   "language": "python",
   "name": "python3"
  },
  "language_info": {
   "codemirror_mode": {
    "name": "ipython",
    "version": 3
   },
   "file_extension": ".py",
   "mimetype": "text/x-python",
   "name": "python",
   "nbconvert_exporter": "python",
   "pygments_lexer": "ipython3",
   "version": "3.13.3"
  }
 },
 "nbformat": 4,
 "nbformat_minor": 5
}
