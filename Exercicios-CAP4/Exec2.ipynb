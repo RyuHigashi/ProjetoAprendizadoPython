{
 "cells": [
  {
   "cell_type": "code",
   "execution_count": 2,
   "id": "f3e858f1",
   "metadata": {},
   "outputs": [],
   "source": [
    "# Criando uma lista de 5 Objetos\n",
    "lista_objetos = [\"Maçã\", \"Banana\", \"Laranja\", \"Uva\", \"Pera\"]"
   ]
  },
  {
   "cell_type": "code",
   "execution_count": 3,
   "id": "a379ca2f",
   "metadata": {},
   "outputs": [
    {
     "data": {
      "text/plain": [
       "['Maçã', 'Banana', 'Laranja', 'Uva', 'Pera']"
      ]
     },
     "execution_count": 3,
     "metadata": {},
     "output_type": "execute_result"
    }
   ],
   "source": [
    "lista_objetos"
   ]
  }
 ],
 "metadata": {
  "kernelspec": {
   "display_name": "Python 3",
   "language": "python",
   "name": "python3"
  },
  "language_info": {
   "codemirror_mode": {
    "name": "ipython",
    "version": 3
   },
   "file_extension": ".py",
   "mimetype": "text/x-python",
   "name": "python",
   "nbconvert_exporter": "python",
   "pygments_lexer": "ipython3",
   "version": "3.13.3"
  }
 },
 "nbformat": 4,
 "nbformat_minor": 5
}
