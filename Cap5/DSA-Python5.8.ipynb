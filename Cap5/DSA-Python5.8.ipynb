{
 "cells": [
  {
   "cell_type": "markdown",
   "id": "349cdf1d",
   "metadata": {},
   "source": [
    "**List Comprehension**\n",
    "\n",
    "[expressão for item in iterable if condição == True]"
   ]
  },
  {
   "cell_type": "code",
   "execution_count": 2,
   "id": "61ced495",
   "metadata": {},
   "outputs": [
    {
     "data": {
      "text/plain": [
       "[0, 1, 2, 3, 4, 5, 6, 7, 8, 9]"
      ]
     },
     "execution_count": 2,
     "metadata": {},
     "output_type": "execute_result"
    }
   ],
   "source": [
    "# List comprehension que imprime numero até 10\n",
    "[x for x in range(10)]\n",
    "\n",
    "\n",
    "#Para cada valor de X na lista de elementos, retorne X se a condição for verdadeira\n"
   ]
  },
  {
   "cell_type": "code",
   "execution_count": 3,
   "id": "31a6ecf2",
   "metadata": {},
   "outputs": [],
   "source": [
    "lista_numeros = [x for x in range(10)]"
   ]
  },
  {
   "cell_type": "code",
   "execution_count": 4,
   "id": "350dd989",
   "metadata": {},
   "outputs": [
    {
     "data": {
      "text/plain": [
       "[0, 1, 2, 3, 4, 5, 6, 7, 8, 9]"
      ]
     },
     "execution_count": 4,
     "metadata": {},
     "output_type": "execute_result"
    }
   ],
   "source": [
    "lista_numeros"
   ]
  },
  {
   "cell_type": "code",
   "execution_count": null,
   "id": "c5bd7e7f",
   "metadata": {},
   "outputs": [],
   "source": [
    "lista_numeros = [x for x in range(10) if x < 5]\n",
    "\n",
    "# retorne x para cada x na lista de elementos se x for menor que 5"
   ]
  },
  {
   "cell_type": "code",
   "execution_count": 6,
   "id": "02570dde",
   "metadata": {},
   "outputs": [
    {
     "data": {
      "text/plain": [
       "[0, 1, 2, 3, 4]"
      ]
     },
     "execution_count": 6,
     "metadata": {},
     "output_type": "execute_result"
    }
   ],
   "source": [
    "lista_numeros"
   ]
  },
  {
   "cell_type": "code",
   "execution_count": 7,
   "id": "6d265cd6",
   "metadata": {},
   "outputs": [],
   "source": [
    "lista_frutas = ['banana', 'maçã', 'laranja', 'uva', 'abacaxi', 'pera']\n",
    "\n",
    "# Nova lista\n",
    "nova_lista = []"
   ]
  },
  {
   "cell_type": "code",
   "execution_count": 10,
   "id": "c4010ff5",
   "metadata": {},
   "outputs": [],
   "source": [
    "nova_lista = [x for x in lista_frutas if \"a\" in x]"
   ]
  },
  {
   "cell_type": "code",
   "execution_count": 11,
   "id": "0412bcde",
   "metadata": {},
   "outputs": [
    {
     "data": {
      "text/plain": [
       "['banana', 'maçã', 'laranja', 'uva', 'abacaxi', 'pera']"
      ]
     },
     "execution_count": 11,
     "metadata": {},
     "output_type": "execute_result"
    }
   ],
   "source": [
    "nova_lista"
   ]
  },
  {
   "cell_type": "code",
   "execution_count": 13,
   "id": "434e5a80",
   "metadata": {},
   "outputs": [
    {
     "name": "stdout",
     "output_type": "stream",
     "text": [
      "['banana', 'maçã', 'laranja', 'uva', 'abacaxi', 'pera', 'maçã', 'maçã']\n"
     ]
    }
   ],
   "source": [
    "for x in lista_frutas:\n",
    "    if \"m\" in x:\n",
    "        nova_lista.append(x)\n",
    "\n",
    "print(nova_lista)"
   ]
  },
  {
   "cell_type": "code",
   "execution_count": 17,
   "id": "d1793c11",
   "metadata": {},
   "outputs": [],
   "source": [
    "lista2 = ['banana', 'maçã', 'laranja', 'uva', 'abacaxi', 'pera']\n",
    "nova_lista2 = []"
   ]
  },
  {
   "cell_type": "code",
   "execution_count": 19,
   "id": "d7a6de70",
   "metadata": {},
   "outputs": [
    {
     "name": "stdout",
     "output_type": "stream",
     "text": [
      "['maçã']\n"
     ]
    }
   ],
   "source": [
    "nova_lista2 = [x for x in lista2 if \"m\" in x]\n",
    "print(nova_lista2)"
   ]
  },
  {
   "cell_type": "code",
   "execution_count": 20,
   "id": "1753cea3",
   "metadata": {},
   "outputs": [
    {
     "name": "stdout",
     "output_type": "stream",
     "text": [
      "{'Bob': 68, 'Michel': 84, 'Zico': 57, 'Ana': 93}\n"
     ]
    }
   ],
   "source": [
    "# Dict Comprehension\n",
    "\n",
    "dict_alunos = {'Bob': 68, 'Michel': 84, 'Zico': 57, 'Ana': 93}\n",
    "\n",
    "# Criamos um novo dicionario imprimindo os pares de chave:valor\n",
    "dict_alunos_status = {k:v for (k,v) in dict_alunos.items()}\n",
    "\n",
    "print(dict_alunos_status)"
   ]
  },
  {
   "cell_type": "code",
   "execution_count": 21,
   "id": "45c02450",
   "metadata": {},
   "outputs": [
    {
     "data": {
      "text/plain": [
       "{'Bob': 'Reprovado!',\n",
       " 'Michel': 'Aprovado',\n",
       " 'Zico': 'Reprovado!',\n",
       " 'Ana': 'Aprovado'}"
      ]
     },
     "execution_count": 21,
     "metadata": {},
     "output_type": "execute_result"
    }
   ],
   "source": [
    "# Dict Comprehension\n",
    "\n",
    "dict_alunos = {'Bob': 68, 'Michel': 84, 'Zico': 57, 'Ana': 93}\n",
    "\n",
    "# Criamos um novo dicionario com status: nota maior que 70, aprovado, senão, reprovado.\n",
    "dict_alunos_status = {k: ('Aprovado' if v > 70 else 'Reprovado!') for (k, v) in dict_alunos.items()}\n",
    "dict_alunos_status"
   ]
  },
  {
   "cell_type": "markdown",
   "id": "1455e0f3",
   "metadata": {},
   "source": [
    "**Fim**"
   ]
  }
 ],
 "metadata": {
  "kernelspec": {
   "display_name": "Python 3",
   "language": "python",
   "name": "python3"
  },
  "language_info": {
   "codemirror_mode": {
    "name": "ipython",
    "version": 3
   },
   "file_extension": ".py",
   "mimetype": "text/x-python",
   "name": "python",
   "nbconvert_exporter": "python",
   "pygments_lexer": "ipython3",
   "version": "3.13.7"
  }
 },
 "nbformat": 4,
 "nbformat_minor": 5
}
