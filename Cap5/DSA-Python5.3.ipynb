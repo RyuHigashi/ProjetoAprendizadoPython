{
 "cells": [
  {
   "cell_type": "markdown",
   "id": "f976d817",
   "metadata": {},
   "source": [
    "***Capitulo 5 - Loop While***"
   ]
  },
  {
   "cell_type": "code",
   "execution_count": 2,
   "id": "734a5314",
   "metadata": {},
   "outputs": [
    {
     "name": "stdout",
     "output_type": "stream",
     "text": [
      "0\n",
      "1\n",
      "2\n",
      "3\n",
      "4\n",
      "5\n",
      "6\n",
      "7\n",
      "8\n",
      "9\n"
     ]
    }
   ],
   "source": [
    "# Usando o loop while para imprimir os valores de 0 a 9\n",
    "# A condição tem que deixar de ser verdadeira dentro do loop, senão pode travar o navegador ou mesmo o computador\n",
    "\n",
    "valor = 0\n",
    "while valor < 10:\n",
    "    print(valor)\n",
    "    valor += 1"
   ]
  },
  {
   "cell_type": "code",
   "execution_count": 5,
   "id": "4dd05817",
   "metadata": {},
   "outputs": [],
   "source": [
    "# Entra no loop somente se a condição for verdadeira\n",
    "valor = 11\n",
    "while valor < 10:\n",
    "    print(valor)\n",
    "    valor += 1"
   ]
  },
  {
   "cell_type": "code",
   "execution_count": 7,
   "id": "097ef5ab",
   "metadata": {},
   "outputs": [
    {
     "name": "stdout",
     "output_type": "stream",
     "text": [
      "O valor de x é:  0\n",
      "0 ainda é menor que 10, somando 1 a 0\n",
      "O valor de x é:  1\n",
      "1 ainda é menor que 10, somando 1 a 1\n",
      "O valor de x é:  2\n",
      "2 ainda é menor que 10, somando 1 a 2\n",
      "O valor de x é:  3\n",
      "3 ainda é menor que 10, somando 1 a 3\n",
      "O valor de x é:  4\n",
      "4 ainda é menor que 10, somando 1 a 4\n",
      "O valor de x é:  5\n",
      "5 ainda é menor que 10, somando 1 a 5\n",
      "O valor de x é:  6\n",
      "6 ainda é menor que 10, somando 1 a 6\n",
      "O valor de x é:  7\n",
      "7 ainda é menor que 10, somando 1 a 7\n",
      "O valor de x é:  8\n",
      "8 ainda é menor que 10, somando 1 a 8\n",
      "O valor de x é:  9\n",
      "9 ainda é menor que 10, somando 1 a 9\n",
      "Loop Concluído!\n",
      "10\n"
     ]
    }
   ],
   "source": [
    "# Também é possivel usar a clausula else com o while\n",
    "\n",
    "x = 0\n",
    "\n",
    "while x < 10:\n",
    "    print(\"O valor de x é: \", x)\n",
    "    print(f\"{x} ainda é menor que 10, somando 1 a {x}\")\n",
    "    x += 1\n",
    "else:\n",
    "    print(\"Loop Concluído!\")\n",
    "print(x)"
   ]
  },
  {
   "cell_type": "markdown",
   "id": "6ed81ce2",
   "metadata": {},
   "source": [
    "***Pass, Break, Continue***"
   ]
  },
  {
   "cell_type": "code",
   "execution_count": 8,
   "id": "51d94d74",
   "metadata": {},
   "outputs": [
    {
     "name": "stdout",
     "output_type": "stream",
     "text": [
      "0\n",
      "1\n",
      "2\n",
      "3\n"
     ]
    }
   ],
   "source": [
    "# Se encontramos o numero 4 interrompemos o loop com o break\n",
    "\n",
    "valor = 0\n",
    "while valor < 10:\n",
    "    if valor == 4:\n",
    "        break\n",
    "    else:\n",
    "        pass\n",
    "    print(valor)\n",
    "    valor += 1"
   ]
  },
  {
   "cell_type": "code",
   "execution_count": null,
   "id": "80c420c6",
   "metadata": {},
   "outputs": [],
   "source": [
    "# Desconsideramos a letra z ao imprimir os caracteres da frase\n",
    "for letra in 'Python é zzz incrivel!':\n",
    "    if letra == 'z':\n",
    "        continue\n",
    "    print(letra)"
   ]
  }
 ],
 "metadata": {
  "kernelspec": {
   "display_name": "Python 3",
   "language": "python",
   "name": "python3"
  },
  "language_info": {
   "codemirror_mode": {
    "name": "ipython",
    "version": 3
   },
   "file_extension": ".py",
   "mimetype": "text/x-python",
   "name": "python",
   "nbconvert_exporter": "python",
   "pygments_lexer": "ipython3",
   "version": "3.13.7"
  }
 },
 "nbformat": 4,
 "nbformat_minor": 5
}
