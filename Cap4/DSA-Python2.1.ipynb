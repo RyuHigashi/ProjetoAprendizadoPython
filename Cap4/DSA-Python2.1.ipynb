{
 "cells": [
  {
   "cell_type": "markdown",
   "id": "f37f27b5",
   "metadata": {},
   "source": [
    "**Capitulo 4 DSA**\n"
   ]
  },
  {
   "cell_type": "code",
   "execution_count": 13,
   "id": "4efc4964",
   "metadata": {},
   "outputs": [
    {
     "name": "stdout",
     "output_type": "stream",
     "text": [
      "Versão da Linguagem Python usada nesse computador : 3.13.3\n"
     ]
    }
   ],
   "source": [
    "from platform import python_version\n",
    "print(\"Versão da Linguagem Python usada nesse computador :\", python_version())"
   ]
  },
  {
   "cell_type": "markdown",
   "id": "ba4434b0",
   "metadata": {},
   "source": [
    "**Operações Aritméticas**\n"
   ]
  },
  {
   "cell_type": "code",
   "execution_count": 14,
   "id": "d777196e",
   "metadata": {},
   "outputs": [
    {
     "data": {
      "text/plain": [
       "8"
      ]
     },
     "execution_count": 14,
     "metadata": {},
     "output_type": "execute_result"
    }
   ],
   "source": [
    "# Soma\n",
    "4 + 4"
   ]
  },
  {
   "cell_type": "code",
   "execution_count": 15,
   "id": "8293c091",
   "metadata": {},
   "outputs": [
    {
     "data": {
      "text/plain": [
       "0"
      ]
     },
     "execution_count": 15,
     "metadata": {},
     "output_type": "execute_result"
    }
   ],
   "source": [
    "# Subtração\n",
    "4 - 4"
   ]
  },
  {
   "cell_type": "code",
   "execution_count": 16,
   "id": "698ca304",
   "metadata": {},
   "outputs": [
    {
     "data": {
      "text/plain": [
       "9"
      ]
     },
     "execution_count": 16,
     "metadata": {},
     "output_type": "execute_result"
    }
   ],
   "source": [
    "# Multiplicação\n",
    "3 * 3"
   ]
  },
  {
   "cell_type": "code",
   "execution_count": 17,
   "id": "21f105e5",
   "metadata": {},
   "outputs": [
    {
     "data": {
      "text/plain": [
       "1.5"
      ]
     },
     "execution_count": 17,
     "metadata": {},
     "output_type": "execute_result"
    }
   ],
   "source": [
    "# Divisão\n",
    "3 / 2"
   ]
  },
  {
   "cell_type": "code",
   "execution_count": 18,
   "id": "bf573ee0",
   "metadata": {},
   "outputs": [
    {
     "data": {
      "text/plain": [
       "16"
      ]
     },
     "execution_count": 18,
     "metadata": {},
     "output_type": "execute_result"
    }
   ],
   "source": [
    "# Potência\n",
    "4 ** 2"
   ]
  },
  {
   "cell_type": "code",
   "execution_count": 19,
   "id": "614c5e2e",
   "metadata": {},
   "outputs": [
    {
     "data": {
      "text/plain": [
       "1"
      ]
     },
     "execution_count": 19,
     "metadata": {},
     "output_type": "execute_result"
    }
   ],
   "source": [
    "# Módulo\n",
    "10 % 3"
   ]
  },
  {
   "cell_type": "markdown",
   "id": "7661296c",
   "metadata": {},
   "source": [
    "**Função Type**"
   ]
  },
  {
   "cell_type": "code",
   "execution_count": 20,
   "id": "f6982d29",
   "metadata": {},
   "outputs": [
    {
     "data": {
      "text/plain": [
       "int"
      ]
     },
     "execution_count": 20,
     "metadata": {},
     "output_type": "execute_result"
    }
   ],
   "source": [
    "type(5)"
   ]
  },
  {
   "cell_type": "code",
   "execution_count": 21,
   "id": "31442dcf",
   "metadata": {},
   "outputs": [
    {
     "data": {
      "text/plain": [
       "float"
      ]
     },
     "execution_count": 21,
     "metadata": {},
     "output_type": "execute_result"
    }
   ],
   "source": [
    "type(5.0)"
   ]
  },
  {
   "cell_type": "code",
   "execution_count": 12,
   "id": "bf4ddb7d",
   "metadata": {},
   "outputs": [
    {
     "data": {
      "text/plain": [
       "str"
      ]
     },
     "execution_count": 12,
     "metadata": {},
     "output_type": "execute_result"
    }
   ],
   "source": [
    "a = \"Estou estudando na DSA\"\n",
    "type(a)"
   ]
  },
  {
   "cell_type": "markdown",
   "id": "7a1f7256",
   "metadata": {},
   "source": [
    "**Operações com Float**"
   ]
  },
  {
   "cell_type": "code",
   "execution_count": 23,
   "id": "4ebc30ed",
   "metadata": {},
   "outputs": [
    {
     "data": {
      "text/plain": [
       "9.5"
      ]
     },
     "execution_count": 23,
     "metadata": {},
     "output_type": "execute_result"
    }
   ],
   "source": [
    "3.1 + 6.4"
   ]
  },
  {
   "cell_type": "code",
   "execution_count": 24,
   "id": "9d6c2d27",
   "metadata": {},
   "outputs": [
    {
     "data": {
      "text/plain": [
       "8.0"
      ]
     },
     "execution_count": 24,
     "metadata": {},
     "output_type": "execute_result"
    }
   ],
   "source": [
    "4 + 4.0"
   ]
  },
  {
   "cell_type": "code",
   "execution_count": 25,
   "id": "e8001b0c",
   "metadata": {},
   "outputs": [
    {
     "data": {
      "text/plain": [
       "8"
      ]
     },
     "execution_count": 25,
     "metadata": {},
     "output_type": "execute_result"
    }
   ],
   "source": [
    "4 + 4"
   ]
  },
  {
   "cell_type": "code",
   "execution_count": null,
   "id": "a0dad28d",
   "metadata": {},
   "outputs": [
    {
     "data": {
      "text/plain": [
       "2.0"
      ]
     },
     "execution_count": 1,
     "metadata": {},
     "output_type": "execute_result"
    }
   ],
   "source": [
    "# Resultado é com numero float\n",
    "4 / 2"
   ]
  },
  {
   "cell_type": "code",
   "execution_count": null,
   "id": "9ff2121d",
   "metadata": {},
   "outputs": [
    {
     "data": {
      "text/plain": [
       "2"
      ]
     },
     "execution_count": 2,
     "metadata": {},
     "output_type": "execute_result"
    }
   ],
   "source": [
    "# resultado é com numero inteiro\n",
    "4 // 2"
   ]
  },
  {
   "cell_type": "code",
   "execution_count": 3,
   "id": "edff92a7",
   "metadata": {},
   "outputs": [
    {
     "data": {
      "text/plain": [
       "1.3333333333333333"
      ]
     },
     "execution_count": 3,
     "metadata": {},
     "output_type": "execute_result"
    }
   ],
   "source": [
    "4 / 3.0"
   ]
  },
  {
   "cell_type": "code",
   "execution_count": 4,
   "id": "067e20d1",
   "metadata": {},
   "outputs": [
    {
     "data": {
      "text/plain": [
       "1.0"
      ]
     },
     "execution_count": 4,
     "metadata": {},
     "output_type": "execute_result"
    }
   ],
   "source": [
    "4 // 3.0"
   ]
  },
  {
   "cell_type": "markdown",
   "id": "2a74c0ed",
   "metadata": {},
   "source": [
    "**Conversão**"
   ]
  },
  {
   "cell_type": "code",
   "execution_count": 5,
   "id": "4e27b6d0",
   "metadata": {},
   "outputs": [
    {
     "data": {
      "text/plain": [
       "9.0"
      ]
     },
     "execution_count": 5,
     "metadata": {},
     "output_type": "execute_result"
    }
   ],
   "source": [
    "float(9)"
   ]
  },
  {
   "cell_type": "code",
   "execution_count": 6,
   "id": "c88d886d",
   "metadata": {},
   "outputs": [
    {
     "data": {
      "text/plain": [
       "6"
      ]
     },
     "execution_count": 6,
     "metadata": {},
     "output_type": "execute_result"
    }
   ],
   "source": [
    "int(6.0)"
   ]
  },
  {
   "cell_type": "code",
   "execution_count": 7,
   "id": "1e46c9e7",
   "metadata": {},
   "outputs": [
    {
     "data": {
      "text/plain": [
       "6"
      ]
     },
     "execution_count": 7,
     "metadata": {},
     "output_type": "execute_result"
    }
   ],
   "source": [
    "int(6.5)"
   ]
  },
  {
   "cell_type": "markdown",
   "id": "cd8d5f52",
   "metadata": {},
   "source": [
    "**Hexadecimal e Binario**"
   ]
  },
  {
   "cell_type": "code",
   "execution_count": 8,
   "id": "c0c8455a",
   "metadata": {},
   "outputs": [
    {
     "data": {
      "text/plain": [
       "'0x18a'"
      ]
     },
     "execution_count": 8,
     "metadata": {},
     "output_type": "execute_result"
    }
   ],
   "source": [
    "hex(394)"
   ]
  },
  {
   "cell_type": "code",
   "execution_count": 11,
   "id": "87db1324",
   "metadata": {},
   "outputs": [
    {
     "data": {
      "text/plain": [
       "'0xd9'"
      ]
     },
     "execution_count": 11,
     "metadata": {},
     "output_type": "execute_result"
    }
   ],
   "source": [
    "hex(217)"
   ]
  },
  {
   "cell_type": "code",
   "execution_count": 10,
   "id": "378e8e5f",
   "metadata": {},
   "outputs": [
    {
     "data": {
      "text/plain": [
       "'0x11e'"
      ]
     },
     "execution_count": 10,
     "metadata": {},
     "output_type": "execute_result"
    }
   ],
   "source": [
    "hex(286)"
   ]
  },
  {
   "cell_type": "code",
   "execution_count": 9,
   "id": "121c402f",
   "metadata": {},
   "outputs": [
    {
     "data": {
      "text/plain": [
       "'0x186'"
      ]
     },
     "execution_count": 9,
     "metadata": {},
     "output_type": "execute_result"
    }
   ],
   "source": [
    "hex(390)"
   ]
  },
  {
   "cell_type": "markdown",
   "id": "8ef6eba5",
   "metadata": {},
   "source": [
    "**Funções abs, round e pow**"
   ]
  },
  {
   "cell_type": "code",
   "execution_count": 12,
   "id": "d75c4677",
   "metadata": {},
   "outputs": [
    {
     "data": {
      "text/plain": [
       "8"
      ]
     },
     "execution_count": 12,
     "metadata": {},
     "output_type": "execute_result"
    }
   ],
   "source": [
    "# Retorna o valor absoluto\n",
    "abs(-8)"
   ]
  },
  {
   "cell_type": "code",
   "execution_count": 13,
   "id": "bad41f5d",
   "metadata": {},
   "outputs": [
    {
     "data": {
      "text/plain": [
       "8"
      ]
     },
     "execution_count": 13,
     "metadata": {},
     "output_type": "execute_result"
    }
   ],
   "source": [
    "# Retorna o valor absoluto\n",
    "abs(8)"
   ]
  },
  {
   "cell_type": "code",
   "execution_count": 14,
   "id": "07af0c64",
   "metadata": {},
   "outputs": [
    {
     "data": {
      "text/plain": [
       "16"
      ]
     },
     "execution_count": 14,
     "metadata": {},
     "output_type": "execute_result"
    }
   ],
   "source": [
    "# Potência\n",
    "pow(4,2)"
   ]
  },
  {
   "cell_type": "code",
   "execution_count": 16,
   "id": "a699b5f4",
   "metadata": {},
   "outputs": [
    {
     "data": {
      "text/plain": [
       "125"
      ]
     },
     "execution_count": 16,
     "metadata": {},
     "output_type": "execute_result"
    }
   ],
   "source": [
    "# Potência\n",
    "pow(5,3)"
   ]
  },
  {
   "cell_type": "markdown",
   "id": "c25b88d9",
   "metadata": {},
   "source": [
    "**Fim**"
   ]
  }
 ],
 "metadata": {
  "kernelspec": {
   "display_name": "Python 3",
   "language": "python",
   "name": "python3"
  },
  "language_info": {
   "codemirror_mode": {
    "name": "ipython",
    "version": 3
   },
   "file_extension": ".py",
   "mimetype": "text/x-python",
   "name": "python",
   "nbconvert_exporter": "python",
   "pygments_lexer": "ipython3",
   "version": "3.13.3"
  }
 },
 "nbformat": 4,
 "nbformat_minor": 5
}
