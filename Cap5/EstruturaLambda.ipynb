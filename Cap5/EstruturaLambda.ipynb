{
 "cells": [
  {
   "cell_type": "code",
   "execution_count": null,
   "id": "869e1699",
   "metadata": {},
   "outputs": [],
   "source": [
    "# lambda argumentos: expressão\n",
    "\n",
    "\n",
    "# Função normal\n",
    "def soma(a, b):\n",
    "    return a + b\n",
    "\n",
    "# Mesma coisa com lambda\n",
    "soma_lambda = lambda a, b: a + b\n",
    "\n",
    "print(soma(3, 5))        # 8\n",
    "print(soma_lambda(3, 5)) # 8\n",
    "\n",
    "# Lambda direto na hora de usar, sem salvar em variável\n",
    "print((lambda x, y: x - y)(10, 4))  # 6\n",
    "\n",
    "\n",
    "# Quer somar 10 em cada número de uma lista\n",
    "numeros = [1, 2, 3, 4]\n",
    "\n",
    "resultado = list(map(lambda x: x + 10, numeros))\n",
    "print(resultado)  # [11, 12, 13, 14]\n",
    "\n",
    "\n",
    "\n",
    "pares = [(10, 5), (7, 2), (20, 8)]\n",
    "\n",
    "# Subtrai cada par com lambda no map\n",
    "resultado = list(map(lambda p: p[0] - p[1], pares))\n",
    "print(resultado)  # [5, 5, 12]\n",
    "\n",
    "\n",
    "numeros = [1, 2, 3, 4, 5]\n",
    "\n",
    "# Quer somar 10 em cada número\n",
    "resultado = list(map(lambda x: x + 10, numeros))\n",
    "print(resultado)  # saída: [11, 12, 13, 14, 15]\n"
   ]
  }
 ],
 "metadata": {
  "language_info": {
   "name": "python"
  }
 },
 "nbformat": 4,
 "nbformat_minor": 5
}
