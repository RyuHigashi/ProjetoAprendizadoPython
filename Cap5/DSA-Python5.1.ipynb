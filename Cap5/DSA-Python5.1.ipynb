{
 "cells": [
  {
   "cell_type": "markdown",
   "id": "c1976f3c",
   "metadata": {},
   "source": [
    "**Capitulo 5** "
   ]
  },
  {
   "cell_type": "code",
   "execution_count": null,
   "id": "5b0e43cc",
   "metadata": {},
   "outputs": [],
   "source": [
    "# Condicional if simples em Python\n",
    "if 5 > 2:\n",
    "    print(\"A sentença é verdadeira!\")\n",
    "# Fim do código."
   ]
  },
  {
   "cell_type": "code",
   "execution_count": null,
   "id": "7a4a10bc",
   "metadata": {},
   "outputs": [],
   "source": [
    "# Condicional if-else em Python\n",
    "\n",
    "if 5 < 2:\n",
    "    print(\"A sentença é verdadeira!\")\n",
    "else:\n",
    "    print(\"A sentença é falsa!\")"
   ]
  },
  {
   "cell_type": "code",
   "execution_count": null,
   "id": "2d8f599e",
   "metadata": {},
   "outputs": [],
   "source": [
    "# Condicional if-else em Python com variáveis\n",
    "dia = \"Terça\"\n",
    "\n",
    "if dia == \"Segunda\":\n",
    "    print(\"Hoje é Segunda-feira\")\n",
    "elif dia == \"Terça\":\n",
    "    print(\"Hoje é Terça-feira\")\n",
    "else:\n",
    "    print(\"Sem previsão do tempo para o dia selecionado!\")"
   ]
  },
  {
   "cell_type": "markdown",
   "id": "cbc6609d",
   "metadata": {},
   "source": [
    "**Operadores Relacionais**\n"
   ]
  },
  {
   "cell_type": "code",
   "execution_count": 1,
   "id": "26cb0514",
   "metadata": {},
   "outputs": [
    {
     "data": {
      "text/plain": [
       "True"
      ]
     },
     "execution_count": 1,
     "metadata": {},
     "output_type": "execute_result"
    }
   ],
   "source": [
    "6 > 3"
   ]
  },
  {
   "cell_type": "code",
   "execution_count": 2,
   "id": "9ae4f225",
   "metadata": {},
   "outputs": [
    {
     "data": {
      "text/plain": [
       "False"
      ]
     },
     "execution_count": 2,
     "metadata": {},
     "output_type": "execute_result"
    }
   ],
   "source": [
    "3 > 7"
   ]
  },
  {
   "cell_type": "code",
   "execution_count": 3,
   "id": "0eea5695",
   "metadata": {},
   "outputs": [
    {
     "data": {
      "text/plain": [
       "True"
      ]
     },
     "execution_count": 3,
     "metadata": {},
     "output_type": "execute_result"
    }
   ],
   "source": [
    "4 < 8"
   ]
  },
  {
   "cell_type": "code",
   "execution_count": 5,
   "id": "dd6cd9ae",
   "metadata": {},
   "outputs": [
    {
     "data": {
      "text/plain": [
       "True"
      ]
     },
     "execution_count": 5,
     "metadata": {},
     "output_type": "execute_result"
    }
   ],
   "source": [
    "4 >= 4"
   ]
  },
  {
   "cell_type": "code",
   "execution_count": 6,
   "id": "008b2b75",
   "metadata": {},
   "outputs": [
    {
     "name": "stdout",
     "output_type": "stream",
     "text": [
      "Testando Python!\n"
     ]
    }
   ],
   "source": [
    "if 5 == 5:\n",
    "    print(\"Testando Python!\")"
   ]
  },
  {
   "cell_type": "code",
   "execution_count": 7,
   "id": "037cc7a8",
   "metadata": {},
   "outputs": [
    {
     "name": "stdout",
     "output_type": "stream",
     "text": [
      "Parece que Pyhton está funcionando!\n"
     ]
    }
   ],
   "source": [
    "if True:\n",
    "    print(\"Parece que Pyhton está funcionando!\")"
   ]
  },
  {
   "cell_type": "code",
   "execution_count": null,
   "id": "73c218aa",
   "metadata": {},
   "outputs": [
    {
     "name": "stdout",
     "output_type": "stream",
     "text": [
      "Tudo Funciona!\n"
     ]
    }
   ],
   "source": [
    "# Atenção com a sintaxe e a indentação do Python!\n",
    "if 4 > 3:\n",
    "    print(\"Tudo Funciona!\")"
   ]
  },
  {
   "cell_type": "markdown",
   "id": "a6473e8c",
   "metadata": {},
   "source": [
    "**Condicionais Aninhados**"
   ]
  },
  {
   "cell_type": "code",
   "execution_count": 9,
   "id": "219e1ed7",
   "metadata": {},
   "outputs": [
    {
     "name": "stdout",
     "output_type": "stream",
     "text": [
      "Você pode dirigir!\n"
     ]
    }
   ],
   "source": [
    "idade = 18\n",
    "if idade > 17:\n",
    "    print(\"Você pode dirigir!\")"
   ]
  },
  {
   "cell_type": "code",
   "execution_count": 10,
   "id": "40e0fdc8",
   "metadata": {},
   "outputs": [
    {
     "name": "stdout",
     "output_type": "stream",
     "text": [
      "Você está autorizado a entrar, Bob.\n"
     ]
    }
   ],
   "source": [
    "Nome = \"Bob\"\n",
    "if idade > 17:\n",
    "    if Nome == \"Bob\":\n",
    "        print(\"Você está autorizado a entrar, Bob.\")\n",
    "    else:\n",
    "        print(\"Desculpe, você não está autorizado a entrar.\")"
   ]
  },
  {
   "cell_type": "code",
   "execution_count": 11,
   "id": "7e940beb",
   "metadata": {},
   "outputs": [
    {
     "name": "stdout",
     "output_type": "stream",
     "text": [
      "Ok Bob, você está autorizado a entrar!\n"
     ]
    }
   ],
   "source": [
    "idade = 13\n",
    "Nome = \"Bob\"\n",
    "if idade >= 13 and Nome == \"Bob\":\n",
    "    print(\"Ok Bob, você está autorizado a entrar!\")"
   ]
  },
  {
   "cell_type": "code",
   "execution_count": 12,
   "id": "00485c02",
   "metadata": {},
   "outputs": [
    {
     "name": "stdout",
     "output_type": "stream",
     "text": [
      "Ok Bob, você está autorizado a entrar!\n"
     ]
    }
   ],
   "source": [
    "idade = 12\n",
    "Nome = \"Bob\"\n",
    "if (idade >= 13) or (Nome == \"Bob\"):\n",
    "    print(\"Ok Bob, você está autorizado a entrar!\")"
   ]
  },
  {
   "cell_type": "markdown",
   "id": "187adbb5",
   "metadata": {},
   "source": [
    "**Operadores Lógicos**"
   ]
  },
  {
   "cell_type": "code",
   "execution_count": 13,
   "id": "cc36c8cf",
   "metadata": {},
   "outputs": [
    {
     "name": "stdout",
     "output_type": "stream",
     "text": [
      "Você pode dirigir!\n"
     ]
    }
   ],
   "source": [
    "idade = 18\n",
    "nome = \"Bob\"\n",
    "if idade > 17:\n",
    "    print(\"Você pode dirigir!\")"
   ]
  },
  {
   "cell_type": "code",
   "execution_count": 14,
   "id": "542f2e28",
   "metadata": {},
   "outputs": [],
   "source": [
    "idade = 18\n",
    "if idade > 17 and nome == \"bob\":\n",
    "    print(\"Autoziado!\")"
   ]
  },
  {
   "cell_type": "code",
   "execution_count": null,
   "id": "79060ce2",
   "metadata": {},
   "outputs": [
    {
     "data": {
      "text/plain": [
       "''"
      ]
     },
     "execution_count": 15,
     "metadata": {},
     "output_type": "execute_result"
    }
   ],
   "source": [
    "\"\"\"\n",
    "Or para ou - se alguma condição for verdadeira\n",
    "and para e - apenas se todas as condições forem verdadeiras\n",
    "not para não - inversor\n",
    "\"\"\"\n"
   ]
  },
  {
   "cell_type": "code",
   "execution_count": null,
   "id": "52b39bff",
   "metadata": {},
   "outputs": [
    {
     "name": "stdout",
     "output_type": "stream",
     "text": [
      "Isso está sendo impresso porque as duas condições são verdadeiras!\n"
     ]
    }
   ],
   "source": [
    "# Operador and\n",
    "\n",
    "numero = 4\n",
    "\n",
    "if (numero > 2) and (numero % 2 == 0):\n",
    "    print(\"Isso está sendo impresso porque as duas condições são verdadeiras!\")"
   ]
  },
  {
   "cell_type": "code",
   "execution_count": null,
   "id": "b8a055dd",
   "metadata": {},
   "outputs": [
    {
     "name": "stdout",
     "output_type": "stream",
     "text": [
      "Isso está sendo impresso poruq euma das duas condições é falsa!\n"
     ]
    }
   ],
   "source": [
    "# Operador and\n",
    "\n",
    "numero = 4\n",
    "\n",
    "if (numero > 5) and (numero % 2 == 0):\n",
    "    print(\"Isso está sendo impresso poruq eas duas condições são verdadeiras!\")\n",
    "else:\n",
    "    print(\"Isso está sendo impresso poruq euma das duas condições é falsa!\")\n"
   ]
  },
  {
   "cell_type": "code",
   "execution_count": 18,
   "id": "b1b7f685",
   "metadata": {},
   "outputs": [
    {
     "name": "stdout",
     "output_type": "stream",
     "text": [
      "Isso está sendo impresso, pq alguma regra foi validada!\n"
     ]
    }
   ],
   "source": [
    "# Operador or\n",
    "\n",
    "numero = 4\n",
    "\n",
    "if(numero > 5) or (numero % 2 == 0):\n",
    "    print(\"Isso está sendo impresso, pq alguma regra foi validada!\")"
   ]
  },
  {
   "cell_type": "code",
   "execution_count": 19,
   "id": "4eb8be25",
   "metadata": {},
   "outputs": [
    {
     "name": "stdout",
     "output_type": "stream",
     "text": [
      "Isso está sendo impresso, pq a primeira condição é falsa e a segunda verdadeira!\n"
     ]
    }
   ],
   "source": [
    "# Operador not\n",
    "\n",
    "numero = 4\n",
    "\n",
    "if not(numero > 5) and (numero % 2 == 0):\n",
    "    print(\"Isso está sendo impresso, pq a primeira condição é falsa e a segunda verdadeira!\")\n",
    "else:\n",
    "    print(\"Isso está sendo impresso poruq euma das duas condições é falsa!\")\n",
    "\n"
   ]
  },
  {
   "cell_type": "code",
   "execution_count": 20,
   "id": "118f1104",
   "metadata": {},
   "outputs": [
    {
     "name": "stdout",
     "output_type": "stream",
     "text": [
      "Isso está sendo impresso, pq as duas primeiras condições são verdadeiras ou a terceira é verdadeira\n"
     ]
    }
   ],
   "source": [
    "# Operador and, or e not\n",
    "\n",
    "numero = 4\n",
    "\n",
    "if (not(numero > 5) and (numero % 2 == 0)) or (numero == 4):\n",
    "    print(\"Isso está sendo impresso, pq as duas primeiras condições são verdadeiras ou a terceira é verdadeira\")"
   ]
  },
  {
   "cell_type": "code",
   "execution_count": 22,
   "id": "df6b6efa",
   "metadata": {},
   "outputs": [
    {
     "name": "stdout",
     "output_type": "stream",
     "text": [
      "Você foi aprovado em Data Science!\n"
     ]
    }
   ],
   "source": [
    "# Exemplo com uso de variaveis\n",
    "\n",
    "disciplina = \"Data Science\"\n",
    "nota_final = 70\n",
    "\n",
    "if disciplina == \"Data Science\" and nota_final >= 70:\n",
    "    print(\"Você foi aprovado em Data Science!\")\n",
    "else:\n",
    "    print(\"Lamento, acho que você precisa estudar mais!\")"
   ]
  },
  {
   "cell_type": "code",
   "execution_count": 23,
   "id": "d0962f31",
   "metadata": {},
   "outputs": [
    {
     "name": "stdout",
     "output_type": "stream",
     "text": [
      "Lamento, acho que você precisa estudar mais!\n"
     ]
    }
   ],
   "source": [
    "# Usando mais de uma condição na clausula if\n",
    "\n",
    "disciplina = \"Data Science\"\n",
    "nota_final = 60\n",
    "\n",
    "if disciplina == \"Data Science\" and nota_final >= 70:\n",
    "    print(\"Você foi aprovado em Data Science!\")\n",
    "else:\n",
    "    print(\"Lamento, acho que você precisa estudar mais!\")"
   ]
  },
  {
   "cell_type": "code",
   "execution_count": null,
   "id": "81d9c37f",
   "metadata": {},
   "outputs": [],
   "source": [
    "# Usando mais de uma condição na clausula if e introduzindo placeholders\n",
    "\n",
    "disciplina = \"Data Science\"\n",
    "nota_final = 90\n",
    "semestre = 2\n",
    "\n",
    "if disciplina == \"Data Science\" and nota_final >= 80 and semestre != 1:\n",
    "    print(f\"Parabéns! Você foi aprovado em {disciplina} no semestre {semestre} com nota {nota_final}!\")\n",
    "else:\n",
    "    print(\"Lamento, acho que você precisa estudar mais!\")"
   ]
  },
  {
   "cell_type": "markdown",
   "id": "b15badcf",
   "metadata": {},
   "source": [
    "**Fim**"
   ]
  },
  {
   "cell_type": "markdown",
   "id": "c9b5134f",
   "metadata": {},
   "source": []
  }
 ],
 "metadata": {
  "kernelspec": {
   "display_name": "Python 3",
   "language": "python",
   "name": "python3"
  },
  "language_info": {
   "codemirror_mode": {
    "name": "ipython",
    "version": 3
   },
   "file_extension": ".py",
   "mimetype": "text/x-python",
   "name": "python",
   "nbconvert_exporter": "python",
   "pygments_lexer": "ipython3",
   "version": "3.13.7"
  }
 },
 "nbformat": 4,
 "nbformat_minor": 5
}
