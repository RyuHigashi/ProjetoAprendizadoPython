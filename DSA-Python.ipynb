{
 "cells": [
  {
   "cell_type": "markdown",
   "id": "1d8151d3",
   "metadata": {},
   "source": [
    "**Começo Introdutorio de Python na DSA**\n"
   ]
  },
  {
   "cell_type": "markdown",
   "id": "ba6fcc93",
   "metadata": {},
   "source": [
    "**1 - Criação de uma calculadora simples a partir de um pseudocodigo sobre a area do paralelogramo, com a informação de comprimento e altura.**"
   ]
  },
  {
   "cell_type": "code",
   "execution_count": 3,
   "id": "257c991a",
   "metadata": {},
   "outputs": [
    {
     "name": "stdout",
     "output_type": "stream",
     "text": [
      "Bem-Vindo ao Calculador de Área de Páralelogramo\n",
      "A Área do paralelogramo é: 50.0\n"
     ]
    }
   ],
   "source": [
    "boas_vindas = \"Bem-Vindo ao Calculador de Área de Páralelogramo\"\n",
    "print(boas_vindas)\n",
    "\n",
    "comp = float(input(\"Digite o comprimento da base: \"))\n",
    "alt = float(input(\"Digite a altura da base: \"))\n",
    "\n",
    "area = comp * alt\n",
    "\n",
    "print(f\"A Área do paralelogramo é: {area}\")"
   ]
  },
  {
   "cell_type": "markdown",
   "id": "01a1667e",
   "metadata": {},
   "source": [
    "**2 - Criação de uma calculadora simples com os sinais padrões de \"+\", \"-\", \"x\" e \"/\".**"
   ]
  },
  {
   "cell_type": "code",
   "execution_count": 13,
   "id": "80c4976e",
   "metadata": {},
   "outputs": [
    {
     "name": "stdout",
     "output_type": "stream",
     "text": [
      "Calculadora Simples\n",
      "A Soma é de : 17.0\n"
     ]
    }
   ],
   "source": [
    "print(\"Calculadora Simples\")\n",
    "\n",
    "firstNumber = float(input(\"Digite o primeiro Numero: \"))\n",
    "secondNumber = float(input(\"Digite o segundo Numero: \"))\n",
    "\n",
    "soma = firstNumber + secondNumber\n",
    "sub = firstNumber - secondNumber\n",
    "mult = firstNumber * secondNumber\n",
    "div = firstNumber / secondNumber\n",
    "\n",
    "signal = (input( \"+\\n\" \\\n",
    "                \"-\\n\" \\\n",
    "                \"*\\n\" \\\n",
    "                \"/\\n\" \\\n",
    "                \"Qual operação deseja: \"))\n",
    "\n",
    "if signal == \"+\":\n",
    "    print(f\"A Soma é de : {soma}\")\n",
    "elif signal == '-':\n",
    "    print(f\"A Subtração é de : {sub}\")\n",
    "elif signal == \"*\":\n",
    "    print(f\"A Multiplicação é de : {mult}\")\n",
    "elif signal == \"/\":\n",
    "    print(f\"A Divisão é de : {div}\")\n",
    "else:\n",
    "    print(\"Operação Invalida!\")\n"
   ]
  },
  {
   "cell_type": "markdown",
   "id": "117c4b76",
   "metadata": {},
   "source": [
    "**3 - Bubble Sort**"
   ]
  },
  {
   "cell_type": "code",
   "execution_count": 5,
   "id": "0e6c59c4",
   "metadata": {},
   "outputs": [],
   "source": [
    "# lista para ordenar\n",
    "lista = [12, 7, 5, 9]\n"
   ]
  },
  {
   "cell_type": "code",
   "execution_count": 4,
   "id": "6b2db2ec",
   "metadata": {},
   "outputs": [],
   "source": [
    "# primeira passada da lista\n",
    "lista = [7, 12, 5, 9]"
   ]
  },
  {
   "cell_type": "code",
   "execution_count": 3,
   "id": "41d0433f",
   "metadata": {},
   "outputs": [],
   "source": [
    "\n",
    "# segunda passada da lista\n",
    "lista = [7, 5, 12, 9]"
   ]
  },
  {
   "cell_type": "code",
   "execution_count": 2,
   "id": "040a0b54",
   "metadata": {},
   "outputs": [],
   "source": [
    "\n",
    "# terceira passada\n",
    "lista = [5, 7, 12, 9]"
   ]
  },
  {
   "cell_type": "code",
   "execution_count": null,
   "id": "bcb6c7be",
   "metadata": {},
   "outputs": [],
   "source": [
    "#quarta passada\n",
    "lista = [5, 7, 9, 12]"
   ]
  },
  {
   "cell_type": "code",
   "execution_count": 16,
   "id": "1fc9ba15",
   "metadata": {},
   "outputs": [],
   "source": [
    "lista = [3,9,11,65,4,3,12,62,79,12,17,21,5,1,9,123]\n",
    "\n",
    "\"\"\"Explicação breve do que esse codigo faz, e como faz:\n",
    "a lista deve ser ordenada sempre do menor ao maior, o codigo faz o seguinte\n",
    "usamos o n = para tamanho da lista, retornando sempre quantos elementos tem em toda a lista\n",
    "fazemos um For para que consigamos passar de parte em parte dentro da lista, do 0 ... n\n",
    "o j fará 0, tamanho - 1 - elemento atual ex: 0, 4 - 1 - 1:\n",
    "Faremos o comparativo se o que há dentro da lista[j] é maior que  lista[j + 1] \n",
    "se for, falamos que lista[j] e lista[j + 1] vai se tornar lista [j+1] e lista[j]\n",
    "caso tenha trocado = continua como True\n",
    "Se nenhuma troca mais ocorreu, iremos parar o for para que retorne a lista na formatação correta\n",
    "print bubble_sort - printamos a lista em forma ordenada crescente, se quisermos de forma decrescente, apenas usamos sinal de <\n",
    "\n",
    "\"\"\" \n",
    "\n",
    "def bubble_sort(lista):\n",
    "    n = len(lista)          # quantidade de elementos que contem dentro da lista\n",
    "\n",
    "    for i in range(n):\n",
    "        change = False\n",
    "\n",
    "        for j in range(0, n - 1 - i):\n",
    "            if lista[j] > lista[j+1]:\n",
    "                lista[j], lista[j+1] = lista[j+ 1], lista[j]\n",
    "                change = True\n",
    "\n",
    "        if not change:\n",
    "            break\n",
    "\n",
    "    return lista"
   ]
  },
  {
   "cell_type": "code",
   "execution_count": 17,
   "id": "6aab6fb9",
   "metadata": {},
   "outputs": [
    {
     "data": {
      "text/plain": [
       "[1, 3, 3, 4, 5, 9, 9, 11, 12, 12, 17, 21, 62, 65, 79, 123]"
      ]
     },
     "execution_count": 17,
     "metadata": {},
     "output_type": "execute_result"
    }
   ],
   "source": [
    "bubble_sort(lista)"
   ]
  },
  {
   "cell_type": "code",
   "execution_count": 19,
   "id": "50c53e91",
   "metadata": {},
   "outputs": [
    {
     "data": {
      "text/plain": [
       "[3, 4, 11, 12, 12, 17, 17, 21, 29, 35, 43, 62, 65, 79, 91, 123]"
      ]
     },
     "execution_count": 19,
     "metadata": {},
     "output_type": "execute_result"
    }
   ],
   "source": [
    "lista2 = [43,29,11,65,4,3,12,62,79,12,17,21,35,17,91,123]\n",
    "\n",
    "bubble_sort(lista2)"
   ]
  }
 ],
 "metadata": {
  "kernelspec": {
   "display_name": "Python 3",
   "language": "python",
   "name": "python3"
  },
  "language_info": {
   "codemirror_mode": {
    "name": "ipython",
    "version": 3
   },
   "file_extension": ".py",
   "mimetype": "text/x-python",
   "name": "python",
   "nbconvert_exporter": "python",
   "pygments_lexer": "ipython3",
   "version": "3.13.3"
  }
 },
 "nbformat": 4,
 "nbformat_minor": 5
}
