{
 "cells": [
  {
   "cell_type": "code",
   "execution_count": 2,
   "id": "2d583f57",
   "metadata": {},
   "outputs": [],
   "source": [
    "dictionaire = {'chave1': 0, 'chave2': 1, 'chave3': 2}"
   ]
  },
  {
   "cell_type": "code",
   "execution_count": 3,
   "id": "0d2e9af7",
   "metadata": {},
   "outputs": [
    {
     "data": {
      "text/plain": [
       "{'chave1': 0, 'chave2': 1, 'chave3': 2}"
      ]
     },
     "execution_count": 3,
     "metadata": {},
     "output_type": "execute_result"
    }
   ],
   "source": [
    "dictionaire"
   ]
  },
  {
   "cell_type": "code",
   "execution_count": null,
   "id": "ec513832",
   "metadata": {},
   "outputs": [],
   "source": []
  }
 ],
 "metadata": {
  "kernelspec": {
   "display_name": "Python 3",
   "language": "python",
   "name": "python3"
  },
  "language_info": {
   "codemirror_mode": {
    "name": "ipython",
    "version": 3
   },
   "file_extension": ".py",
   "mimetype": "text/x-python",
   "name": "python",
   "nbconvert_exporter": "python",
   "pygments_lexer": "ipython3",
   "version": "3.13.3"
  }
 },
 "nbformat": 4,
 "nbformat_minor": 5
}
