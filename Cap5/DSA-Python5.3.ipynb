{
 "cells": [
  {
   "cell_type": "markdown",
   "id": "b4794a1f",
   "metadata": {},
   "source": []
  },
  {
   "cell_type": "markdown",
   "id": "f976d817",
   "metadata": {},
   "source": [
    "***Capitulo 5 - Loop While***"
   ]
  },
  {
   "cell_type": "code",
   "execution_count": 5,
   "id": "734a5314",
   "metadata": {},
   "outputs": [
    {
     "name": "stdout",
     "output_type": "stream",
     "text": [
      "0\n",
      "1\n",
      "2\n",
      "3\n",
      "4\n",
      "5\n",
      "6\n",
      "7\n",
      "8\n",
      "9\n"
     ]
    }
   ],
   "source": [
    "# Usando o loop while para imprimir os valores de 0 a 9\n",
    "# A condição tem que deixar de ser verdadeira dentro do loop, senão pode travar o navegador ou mesmo o computador\n",
    "\n",
    "valor = 0\n",
    "while valor < 10:\n",
    "    print(valor)\n",
    "    valor += 1"
   ]
  },
  {
   "cell_type": "code",
   "execution_count": 6,
   "id": "4dd05817",
   "metadata": {},
   "outputs": [],
   "source": [
    "# Entra no loop somente se a condição for verdadeira\n",
    "valor = 11\n",
    "while valor < 10:\n",
    "    print(valor)\n",
    "    valor += 1"
   ]
  },
  {
   "cell_type": "code",
   "execution_count": 7,
   "id": "097ef5ab",
   "metadata": {},
   "outputs": [
    {
     "name": "stdout",
     "output_type": "stream",
     "text": [
      "O valor de x é:  0\n",
      "0 ainda é menor que 10, somando 1 a 0\n",
      "O valor de x é:  1\n",
      "1 ainda é menor que 10, somando 1 a 1\n",
      "O valor de x é:  2\n",
      "2 ainda é menor que 10, somando 1 a 2\n",
      "O valor de x é:  3\n",
      "3 ainda é menor que 10, somando 1 a 3\n",
      "O valor de x é:  4\n",
      "4 ainda é menor que 10, somando 1 a 4\n",
      "O valor de x é:  5\n",
      "5 ainda é menor que 10, somando 1 a 5\n",
      "O valor de x é:  6\n",
      "6 ainda é menor que 10, somando 1 a 6\n",
      "O valor de x é:  7\n",
      "7 ainda é menor que 10, somando 1 a 7\n",
      "O valor de x é:  8\n",
      "8 ainda é menor que 10, somando 1 a 8\n",
      "O valor de x é:  9\n",
      "9 ainda é menor que 10, somando 1 a 9\n",
      "Loop Concluído!\n",
      "10\n"
     ]
    }
   ],
   "source": [
    "# Também é possivel usar a clausula else com o while\n",
    "\n",
    "x = 0\n",
    "\n",
    "while x < 10:\n",
    "    print(\"O valor de x é: \", x)\n",
    "    print(f\"{x} ainda é menor que 10, somando 1 a {x}\")\n",
    "    x += 1\n",
    "else:\n",
    "    print(\"Loop Concluído!\")\n",
    "print(x)"
   ]
  },
  {
   "cell_type": "markdown",
   "id": "6ed81ce2",
   "metadata": {},
   "source": [
    "***Pass, Break, Continue***"
   ]
  },
  {
   "cell_type": "code",
   "execution_count": 8,
   "id": "51d94d74",
   "metadata": {},
   "outputs": [
    {
     "name": "stdout",
     "output_type": "stream",
     "text": [
      "0\n",
      "1\n",
      "2\n",
      "3\n"
     ]
    }
   ],
   "source": [
    "# Se encontramos o numero 4 interrompemos o loop com o break\n",
    "\n",
    "valor = 0\n",
    "while valor < 10:\n",
    "    if valor == 4:\n",
    "        break\n",
    "    else:\n",
    "        pass\n",
    "    print(valor)\n",
    "    valor += 1"
   ]
  },
  {
   "cell_type": "code",
   "execution_count": 9,
   "id": "80c420c6",
   "metadata": {},
   "outputs": [
    {
     "name": "stdout",
     "output_type": "stream",
     "text": [
      "P\n",
      "y\n",
      "t\n",
      "h\n",
      "o\n",
      "n\n",
      " \n",
      "é\n",
      " \n",
      " \n",
      "i\n",
      "n\n",
      "c\n",
      "r\n",
      "i\n",
      "v\n",
      "e\n",
      "l\n",
      "!\n"
     ]
    }
   ],
   "source": [
    "# Desconsideramos a letra z ao imprimir os caracteres da frase\n",
    "for letra in 'Python é zzz incrivel!':\n",
    "    if letra == 'z':\n",
    "        continue\n",
    "    print(letra)"
   ]
  },
  {
   "cell_type": "markdown",
   "id": "9add6d51",
   "metadata": {},
   "source": [
    "**While e For juntos**"
   ]
  },
  {
   "cell_type": "code",
   "execution_count": 12,
   "id": "5e791c00",
   "metadata": {},
   "outputs": [
    {
     "name": "stdout",
     "output_type": "stream",
     "text": [
      "[2, 3, 5, 7, 11, 13, 17, 19, 23, 29]\n",
      "CPU times: total: 0 ns\n",
      "Wall time: 102 μs\n"
     ]
    }
   ],
   "source": [
    "%%time\n",
    "\n",
    "primos = []\n",
    "\n",
    "for num in range (2, 31):\n",
    "\n",
    "    eh_primo = True\n",
    "    i = 2\n",
    "    while i <= num / 2:\n",
    "        if num % i == 0:\n",
    "            eh_primo = False\n",
    "            break\n",
    "        i += 1\n",
    "\n",
    "    if eh_primo:\n",
    "        primos.append(num)\n",
    "\n",
    "print(primos)\n"
   ]
  },
  {
   "cell_type": "code",
   "execution_count": 13,
   "id": "2224a9c2",
   "metadata": {},
   "outputs": [
    {
     "name": "stdout",
     "output_type": "stream",
     "text": [
      "2 é primo\n",
      "3 é primo\n",
      "5 é primo\n",
      "7 é primo\n",
      "11 é primo\n",
      "13 é primo\n",
      "17 é primo\n",
      "19 é primo\n",
      "23 é primo\n",
      "29 é primo\n",
      "CPU times: total: 0 ns\n",
      "Wall time: 139 μs\n"
     ]
    }
   ],
   "source": [
    "%%time\n",
    "\n",
    "\n",
    "# Entramos no loop para cada numero de 2 a 30\n",
    "for i in range(2, 31):\n",
    "\n",
    "    # Variavel de Controle\n",
    "    j = 2\n",
    "\n",
    "    #Contador\n",
    "    valor = 0\n",
    "\n",
    "\n",
    "    # Entramos no loop enquanto j for menor que i\n",
    "    # exemplo: se i for 5, j vai de 2 a 4\n",
    "    while j < i:\n",
    "\n",
    "        # Se i for divisivel por j, atribui 1 a valor e soma 1 a j\n",
    "        # Exemplo: 5 % 2 != 0, então soma 1 a j\n",
    "        # Exemplo: 6 % 2 == 0, então atribui 1 a valor e soma 1 a j\n",
    "        if i % j == 0:\n",
    "            valor = 1\n",
    "            j = j + 1\n",
    "        else:\n",
    "            j = j + 1\n",
    "\n",
    "\n",
    "        # Se valor for 0, imprime que i é primo\n",
    "        # Se valor for 1, atribui 0 a valor e sai do loop\n",
    "    if valor == 0:\n",
    "        print(str(i) + \" é primo\")\n",
    "        valor = 0\n",
    "    else:\n",
    "        valor = 0"
   ]
  },
  {
   "cell_type": "markdown",
   "id": "52eda83e",
   "metadata": {},
   "source": [
    "**Fim**"
   ]
  },
  {
   "cell_type": "markdown",
   "id": "4ae0af49",
   "metadata": {},
   "source": []
  }
 ],
 "metadata": {
  "kernelspec": {
   "display_name": "Python 3",
   "language": "python",
   "name": "python3"
  },
  "language_info": {
   "codemirror_mode": {
    "name": "ipython",
    "version": 3
   },
   "file_extension": ".py",
   "mimetype": "text/x-python",
   "name": "python",
   "nbconvert_exporter": "python",
   "pygments_lexer": "ipython3",
   "version": "3.13.7"
  }
 },
 "nbformat": 4,
 "nbformat_minor": 5
}
