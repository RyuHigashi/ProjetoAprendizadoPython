{
 "cells": [
  {
   "cell_type": "markdown",
   "id": "c1976f3c",
   "metadata": {},
   "source": [
    "**Capitulo 5.2 - Loop For** "
   ]
  },
  {
   "cell_type": "code",
   "execution_count": 2,
   "id": "568ca9d5",
   "metadata": {},
   "outputs": [
    {
     "name": "stdout",
     "output_type": "stream",
     "text": [
      "2\n",
      "3\n",
      "4\n"
     ]
    }
   ],
   "source": [
    "# Criando uma tupla e imprimindo seus valores com loop for\n",
    "\n",
    "tp = (2,3,4)\n",
    "for i in tp:\n",
    "    print(i)"
   ]
  },
  {
   "cell_type": "code",
   "execution_count": 3,
   "id": "fe28db41",
   "metadata": {},
   "outputs": [
    {
     "name": "stdout",
     "output_type": "stream",
     "text": [
      "Data Science\n",
      "Machine Learning\n",
      "Deep Learning\n"
     ]
    }
   ],
   "source": [
    "# Criando uma lista  e imprimindo seus valores com loop for\n",
    "\n",
    "ListaDeStrings = [\"Data Science\", \"Machine Learning\", \"Deep Learning\"]\n",
    "for i in ListaDeStrings:\n",
    "    print(i)"
   ]
  },
  {
   "cell_type": "code",
   "execution_count": null,
   "id": "c67f99e5",
   "metadata": {},
   "outputs": [
    {
     "name": "stdout",
     "output_type": "stream",
     "text": [
      "0\n",
      "1\n",
      "2\n",
      "3\n",
      "4\n"
     ]
    }
   ],
   "source": [
    "# Imprimindo valores de 0 a 5 (exclusive) com loop for\n",
    "\n",
    "for contador in range(0, 5):\n",
    "    print(contador)"
   ]
  },
  {
   "cell_type": "code",
   "execution_count": null,
   "id": "4bee53c3",
   "metadata": {},
   "outputs": [
    {
     "name": "stdout",
     "output_type": "stream",
     "text": [
      "2\n",
      "4\n",
      "6\n",
      "8\n",
      "10\n"
     ]
    }
   ],
   "source": [
    "lista = [1, 2, 3, 4, 5, 6, 7, 8, 9, 10]\n",
    "\n",
    "for num in lista:\n",
    "    if num % 2 == 0:\n",
    "        print(f\"{num}\") \n",
    "\n",
    "# Imprimindo valores pares de 0 a 100 com loop for"
   ]
  },
  {
   "cell_type": "code",
   "execution_count": 7,
   "id": "6d7377ca",
   "metadata": {},
   "outputs": [
    {
     "name": "stdout",
     "output_type": "stream",
     "text": [
      "0\n",
      "2\n",
      "4\n",
      "6\n",
      "8\n",
      "10\n",
      "12\n",
      "14\n",
      "16\n",
      "18\n",
      "20\n",
      "22\n",
      "24\n",
      "26\n",
      "28\n",
      "30\n",
      "32\n",
      "34\n",
      "36\n",
      "38\n",
      "40\n",
      "42\n",
      "44\n",
      "46\n",
      "48\n",
      "50\n",
      "52\n",
      "54\n",
      "56\n",
      "58\n",
      "60\n",
      "62\n",
      "64\n",
      "66\n",
      "68\n",
      "70\n",
      "72\n",
      "74\n",
      "76\n",
      "78\n",
      "80\n",
      "82\n",
      "84\n",
      "86\n",
      "88\n",
      "90\n",
      "92\n",
      "94\n",
      "96\n",
      "98\n",
      "100\n"
     ]
    }
   ],
   "source": [
    "for i in range(0,101,2):\n",
    "    print(i)\n",
    "\n",
    "    # imprimindo valores de 2 em 2 incrementos, de 0 a 100 com loop for"
   ]
  },
  {
   "cell_type": "code",
   "execution_count": 8,
   "id": "552f3e13",
   "metadata": {},
   "outputs": [
    {
     "name": "stdout",
     "output_type": "stream",
     "text": [
      "P\n",
      "y\n",
      "t\n",
      "h\n",
      "o\n",
      "n\n",
      " \n",
      "é\n",
      " \n",
      "u\n",
      "m\n",
      "a\n",
      " \n",
      "l\n",
      "i\n",
      "n\n",
      "g\n",
      "u\n",
      "a\n",
      "g\n",
      "e\n",
      "m\n",
      " \n",
      "d\n",
      "e\n",
      " \n",
      "p\n",
      "r\n",
      "o\n",
      "g\n",
      "r\n",
      "a\n",
      "m\n",
      "a\n",
      "ç\n",
      "ã\n",
      "o\n",
      " \n",
      "d\n",
      "i\n",
      "v\n",
      "e\n",
      "r\n",
      "t\n",
      "i\n",
      "d\n",
      "a\n",
      "!\n"
     ]
    }
   ],
   "source": [
    "for caracter in \"Python é uma linguagem de programação divertida!\":\n",
    "    print(caracter)"
   ]
  },
  {
   "cell_type": "markdown",
   "id": "f5f82b6a",
   "metadata": {},
   "source": [
    "**Loop For Aninhado**"
   ]
  },
  {
   "cell_type": "code",
   "execution_count": 9,
   "id": "e12760ad",
   "metadata": {},
   "outputs": [
    {
     "name": "stdout",
     "output_type": "stream",
     "text": [
      "\n",
      " 0\n",
      "\n",
      " 0\n",
      "\n",
      " 0\n",
      "\n",
      " 0\n",
      "\n",
      " 0\n",
      "---\n",
      "\n",
      " 0\n",
      "\n",
      " 1\n",
      "\n",
      " 2\n",
      "\n",
      " 3\n",
      "\n",
      " 4\n",
      "---\n",
      "\n",
      " 0\n",
      "\n",
      " 2\n",
      "\n",
      " 4\n",
      "\n",
      " 6\n",
      "\n",
      " 8\n",
      "---\n",
      "\n",
      " 0\n",
      "\n",
      " 3\n",
      "\n",
      " 6\n",
      "\n",
      " 9\n",
      "\n",
      " 12\n",
      "---\n",
      "\n",
      " 0\n",
      "\n",
      " 4\n",
      "\n",
      " 8\n",
      "\n",
      " 12\n",
      "\n",
      " 16\n",
      "---\n"
     ]
    }
   ],
   "source": [
    "# Loops aninhados\n",
    "for i in range(0,5):\n",
    "    for a in range(0,5):\n",
    "        print('\\n', a * i)\n",
    "    print('---')"
   ]
  },
  {
   "cell_type": "code",
   "execution_count": 10,
   "id": "4d889af2",
   "metadata": {},
   "outputs": [
    {
     "name": "stdout",
     "output_type": "stream",
     "text": [
      "\n",
      " 0\n",
      "\n",
      " 0\n",
      "\n",
      " 0\n",
      "---\n",
      "\n",
      " 1\n",
      "\n",
      " 2\n",
      "\n",
      " 3\n",
      "---\n",
      "\n",
      " 2\n",
      "\n",
      " 4\n",
      "\n",
      " 6\n",
      "---\n",
      "\n",
      " 3\n",
      "\n",
      " 6\n",
      "\n",
      " 9\n",
      "---\n",
      "\n",
      " 4\n",
      "\n",
      " 8\n",
      "\n",
      " 12\n",
      "---\n"
     ]
    }
   ],
   "source": [
    "lista1 = [0, 1, 2, 3, 4]\n",
    "lista2 = [1, 2, 3]\n",
    "\n",
    "# Loop Externo\n",
    "for elemento_lista1 in lista1:\n",
    "\n",
    "    # Loop Interno\n",
    "    for elemento_lista2 in lista2:\n",
    "\n",
    "        print('\\n', elemento_lista1 * elemento_lista2)\n",
    "\n",
    "    print('---')"
   ]
  },
  {
   "cell_type": "code",
   "execution_count": 11,
   "id": "c39a502c",
   "metadata": {},
   "outputs": [
    {
     "name": "stdout",
     "output_type": "stream",
     "text": [
      "O numero 47 fi encontrado nas duas listas!\n"
     ]
    }
   ],
   "source": [
    "lista1 = [10, 16, 24, 39, 47]\n",
    "lista2 = [32, 89, 47, 76, 12]\n",
    "\n",
    "\n",
    "# Loop Externo\n",
    "for elemento_lista1 in lista1:\n",
    "\n",
    "    # Loop Interno\n",
    "    for elemento_lista2 in lista2:\n",
    "\n",
    "        if elemento_lista1 == 47 and elemento_lista2 == 47:\n",
    "\n",
    "            print(\"O numero 47 fi encontrado nas duas listas!\")"
   ]
  },
  {
   "cell_type": "code",
   "execution_count": 12,
   "id": "a27fd7b7",
   "metadata": {},
   "outputs": [
    {
     "name": "stdout",
     "output_type": "stream",
     "text": [
      "A soma dos números pares é 170\n"
     ]
    }
   ],
   "source": [
    "lista1 = [10, 16, 24, 39, 47]\n",
    "lista2 = [32, 89, 47, 76, 12]\n",
    "soma = 0\n",
    "\n",
    "# Loop Externo\n",
    "for lista in [lista1, lista2]:\n",
    "\n",
    "    # Loop Interno\n",
    "    for num in lista:\n",
    "\n",
    "        # Condicional\n",
    "\n",
    "        if num % 2 ==0:\n",
    "            soma += num\n",
    "\n",
    "print(f\"A soma dos números pares é {soma}\")"
   ]
  },
  {
   "cell_type": "code",
   "execution_count": 13,
   "id": "3abe0ca1",
   "metadata": {},
   "outputs": [
    {
     "data": {
      "text/plain": [
       "[10, 16, 24, 39, 47, 32, 89, 47, 76, 12]"
      ]
     },
     "execution_count": 13,
     "metadata": {},
     "output_type": "execute_result"
    }
   ],
   "source": [
    "# Listas podem ser concatenadas em python usando o operador +\n",
    "\n",
    "lista1 + lista2"
   ]
  },
  {
   "cell_type": "code",
   "execution_count": 14,
   "id": "04b970bb",
   "metadata": {},
   "outputs": [
    {
     "name": "stdout",
     "output_type": "stream",
     "text": [
      "A soma dos números pares é 170\n"
     ]
    }
   ],
   "source": [
    "# Some os numeros pares da primeira lista com os numeros pares da segunda lista\n",
    "\n",
    "lista1 = [10, 16, 24, 39, 47]\n",
    "lista2 = [32, 89, 47, 76, 12]\n",
    "soma = 0\n",
    "\n",
    "for num in lista1 + lista2:\n",
    "    if num % 2 == 0:\n",
    "        soma += num\n",
    "\n",
    "print(f\"A soma dos números pares é {soma}\")"
   ]
  },
  {
   "cell_type": "code",
   "execution_count": 15,
   "id": "80042ee1",
   "metadata": {},
   "outputs": [
    {
     "name": "stdout",
     "output_type": "stream",
     "text": [
      "O maior número da matriz é 215\n"
     ]
    }
   ],
   "source": [
    "# Loop em lista de listas (matrizes) para encontrar o maior numero\n",
    "\n",
    "matriz = [[42, 23, 34], [100, 215, 114], [10.1, 98.7, 12.3]]\n",
    "maior_num = 0\n",
    "\n",
    "# Loop Externo\n",
    "for linha in matriz:\n",
    "\n",
    "    # Loop Interno\n",
    "    for num in linha:\n",
    "        if num > maior_num:\n",
    "            maior_num = num\n",
    "\n",
    "print(f\"O maior número da matriz é {maior_num}\")"
   ]
  },
  {
   "cell_type": "code",
   "execution_count": 16,
   "id": "4075e042",
   "metadata": {},
   "outputs": [
    {
     "name": "stdout",
     "output_type": "stream",
     "text": [
      "k1\n",
      "k2\n",
      "k3\n"
     ]
    }
   ],
   "source": [
    "# Listando as chaves de um dicionário\n",
    "\n",
    "dict = {'k1': 'Python', 'k2': 'R', 'k3': 'Scala'}\n",
    "\n",
    "for item in dict:\n",
    "    print(item)"
   ]
  },
  {
   "cell_type": "code",
   "execution_count": 17,
   "id": "619d25bc",
   "metadata": {},
   "outputs": [
    {
     "name": "stdout",
     "output_type": "stream",
     "text": [
      "k1 Python\n",
      "k2 R\n",
      "k3 Scala\n"
     ]
    }
   ],
   "source": [
    "# Imprimindo a chave e o valor de um dicionário. Usando o metodo items()\n",
    "\n",
    "for k,v in dict.items():\n",
    "    print(k, v)"
   ]
  },
  {
   "cell_type": "markdown",
   "id": "ad842106",
   "metadata": {},
   "source": [
    "**Fim**"
   ]
  }
 ],
 "metadata": {
  "kernelspec": {
   "display_name": "Python 3",
   "language": "python",
   "name": "python3"
  },
  "language_info": {
   "codemirror_mode": {
    "name": "ipython",
    "version": 3
   },
   "file_extension": ".py",
   "mimetype": "text/x-python",
   "name": "python",
   "nbconvert_exporter": "python",
   "pygments_lexer": "ipython3",
   "version": "3.13.7"
  }
 },
 "nbformat": 4,
 "nbformat_minor": 5
}
