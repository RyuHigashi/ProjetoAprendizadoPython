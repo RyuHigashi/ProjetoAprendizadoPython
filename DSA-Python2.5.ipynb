{
 "cells": [
  {
   "cell_type": "markdown",
   "id": "5a7ad414",
   "metadata": {},
   "source": [
    "**Trabalhando com Dicionarios**"
   ]
  },
  {
   "cell_type": "code",
   "execution_count": 1,
   "id": "8fc688e8",
   "metadata": {},
   "outputs": [],
   "source": [
    "estudantes_lst = [\"Pedro\", 24, \"Ana\", 22, \"Ronaldo\", 26, \"Janaina\", 25]"
   ]
  },
  {
   "cell_type": "code",
   "execution_count": 2,
   "id": "714b2e01",
   "metadata": {},
   "outputs": [
    {
     "data": {
      "text/plain": [
       "['Pedro', 24, 'Ana', 22, 'Ronaldo', 26, 'Janaina', 25]"
      ]
     },
     "execution_count": 2,
     "metadata": {},
     "output_type": "execute_result"
    }
   ],
   "source": [
    "estudantes_lst"
   ]
  },
  {
   "cell_type": "code",
   "execution_count": 3,
   "id": "3c6ef5c5",
   "metadata": {},
   "outputs": [
    {
     "data": {
      "text/plain": [
       "list"
      ]
     },
     "execution_count": 3,
     "metadata": {},
     "output_type": "execute_result"
    }
   ],
   "source": [
    "type(estudantes_lst)"
   ]
  },
  {
   "cell_type": "code",
   "execution_count": 4,
   "id": "5e2c3b95",
   "metadata": {},
   "outputs": [],
   "source": [
    "# Isso é um dicionario\n",
    "estudantes_dict = {\"Pedro\":24, \"Ana\":22, \"Ronaldo\":26, \"Janaina\":25}"
   ]
  },
  {
   "cell_type": "code",
   "execution_count": 5,
   "id": "1185757d",
   "metadata": {},
   "outputs": [
    {
     "data": {
      "text/plain": [
       "{'Pedro': 24, 'Ana': 22, 'Ronaldo': 26, 'Janaina': 25}"
      ]
     },
     "execution_count": 5,
     "metadata": {},
     "output_type": "execute_result"
    }
   ],
   "source": [
    "estudantes_dict"
   ]
  },
  {
   "cell_type": "code",
   "execution_count": 6,
   "id": "0c68e8ad",
   "metadata": {},
   "outputs": [
    {
     "data": {
      "text/plain": [
       "24"
      ]
     },
     "execution_count": 6,
     "metadata": {},
     "output_type": "execute_result"
    }
   ],
   "source": [
    "# Consultando os valores de Pedro dentro do dicionario\n",
    "estudantes_dict[\"Pedro\"]"
   ]
  },
  {
   "cell_type": "code",
   "execution_count": 7,
   "id": "134877c8",
   "metadata": {},
   "outputs": [],
   "source": [
    "# Isso é adição ao dicionario\n",
    "estudantes_dict[\"Marcelo\"] = 23"
   ]
  },
  {
   "cell_type": "code",
   "execution_count": 8,
   "id": "3e172704",
   "metadata": {},
   "outputs": [
    {
     "data": {
      "text/plain": [
       "23"
      ]
     },
     "execution_count": 8,
     "metadata": {},
     "output_type": "execute_result"
    }
   ],
   "source": [
    "estudantes_dict[\"Marcelo\"] # Isso é a consulta do dicionario no Marcelo"
   ]
  },
  {
   "cell_type": "code",
   "execution_count": 9,
   "id": "b9b01640",
   "metadata": {},
   "outputs": [],
   "source": [
    "estudantes_dict.clear() # Isso é a limpeza do dicionario"
   ]
  },
  {
   "cell_type": "code",
   "execution_count": 10,
   "id": "7b6f4b70",
   "metadata": {},
   "outputs": [
    {
     "data": {
      "text/plain": [
       "{}"
      ]
     },
     "execution_count": 10,
     "metadata": {},
     "output_type": "execute_result"
    }
   ],
   "source": [
    "estudantes_dict # Isso é a consulta do dicionario"
   ]
  },
  {
   "cell_type": "code",
   "execution_count": 11,
   "id": "620356c6",
   "metadata": {},
   "outputs": [],
   "source": [
    "del estudantes_dict # Isso é a remoção do dicionario"
   ]
  },
  {
   "cell_type": "code",
   "execution_count": 12,
   "id": "aed94bce",
   "metadata": {},
   "outputs": [
    {
     "ename": "NameError",
     "evalue": "name 'estudantes_dict' is not defined",
     "output_type": "error",
     "traceback": [
      "\u001b[31m---------------------------------------------------------------------------\u001b[39m",
      "\u001b[31mNameError\u001b[39m                                 Traceback (most recent call last)",
      "\u001b[36mCell\u001b[39m\u001b[36m \u001b[39m\u001b[32mIn[12]\u001b[39m\u001b[32m, line 1\u001b[39m\n\u001b[32m----> \u001b[39m\u001b[32m1\u001b[39m \u001b[43mestudantes_dict\u001b[49m \u001b[38;5;66;03m# irá apresentar erro, pois o dicionário foi removido\u001b[39;00m\n",
      "\u001b[31mNameError\u001b[39m: name 'estudantes_dict' is not defined"
     ]
    }
   ],
   "source": [
    "estudantes_dict # irá apresentar erro, pois o dicionário foi removido"
   ]
  },
  {
   "cell_type": "code",
   "execution_count": null,
   "id": "27f31bee",
   "metadata": {},
   "outputs": [],
   "source": [
    "estudantes = {\"Pedro\": 24, \"Ana\":22, \"Ronaldo\": 26, \"Janaina\": 25}"
   ]
  },
  {
   "cell_type": "code",
   "execution_count": null,
   "id": "26c800f0",
   "metadata": {},
   "outputs": [
    {
     "data": {
      "text/plain": [
       "{'Pedro': 24, 'Ana': 22, 'Ronaldo': 26, 'Janaina': 25}"
      ]
     },
     "execution_count": 16,
     "metadata": {},
     "output_type": "execute_result"
    }
   ],
   "source": [
    "estudantes"
   ]
  },
  {
   "cell_type": "code",
   "execution_count": null,
   "id": "b3146f1a",
   "metadata": {},
   "outputs": [
    {
     "data": {
      "text/plain": [
       "4"
      ]
     },
     "execution_count": 17,
     "metadata": {},
     "output_type": "execute_result"
    }
   ],
   "source": [
    "len(estudantes)"
   ]
  },
  {
   "cell_type": "code",
   "execution_count": null,
   "id": "d2dd9363",
   "metadata": {},
   "outputs": [
    {
     "data": {
      "text/plain": [
       "dict_keys(['Pedro', 'Ana', 'Ronaldo', 'Janaina'])"
      ]
     },
     "execution_count": 18,
     "metadata": {},
     "output_type": "execute_result"
    }
   ],
   "source": [
    "# Consultando as chaves do dicionario\n",
    "estudantes.keys()"
   ]
  },
  {
   "cell_type": "code",
   "execution_count": null,
   "id": "20314f8f",
   "metadata": {},
   "outputs": [
    {
     "data": {
      "text/plain": [
       "dict_values([24, 22, 26, 25])"
      ]
     },
     "execution_count": 19,
     "metadata": {},
     "output_type": "execute_result"
    }
   ],
   "source": [
    "# Consultando os valores do dicionario\n",
    "estudantes.values()"
   ]
  },
  {
   "cell_type": "code",
   "execution_count": null,
   "id": "07b9567d",
   "metadata": {},
   "outputs": [
    {
     "data": {
      "text/plain": [
       "dict_items([('Pedro', 24), ('Ana', 22), ('Ronaldo', 26), ('Janaina', 25)])"
      ]
     },
     "execution_count": 20,
     "metadata": {},
     "output_type": "execute_result"
    }
   ],
   "source": [
    "# Consultando os itens do dicionario\n",
    "estudantes.items()  # Retorna uma lista de tuplas, onde cada tupla contém um par chave-valor do dicionário"
   ]
  },
  {
   "cell_type": "code",
   "execution_count": null,
   "id": "51e979fa",
   "metadata": {},
   "outputs": [],
   "source": [
    "estudantes2 = {\"Camila\":27, \"Adriana\": 28, \"Roberta\":26}\n",
    "# criando um novo dicionario"
   ]
  },
  {
   "cell_type": "code",
   "execution_count": null,
   "id": "eb396179",
   "metadata": {},
   "outputs": [
    {
     "data": {
      "text/plain": [
       "{'Camila': 27, 'Adriana': 28, 'Roberta': 26}"
      ]
     },
     "execution_count": 22,
     "metadata": {},
     "output_type": "execute_result"
    }
   ],
   "source": [
    "estudantes2"
   ]
  },
  {
   "cell_type": "code",
   "execution_count": null,
   "id": "cac253a5",
   "metadata": {},
   "outputs": [],
   "source": [
    "estudantes.update(estudantes2)  # Atualiza o dicionário estudantes com os pares chave-valor do dicionário estudantes2"
   ]
  },
  {
   "cell_type": "code",
   "execution_count": null,
   "id": "668ba885",
   "metadata": {},
   "outputs": [
    {
     "data": {
      "text/plain": [
       "{'Pedro': 24,\n",
       " 'Ana': 22,\n",
       " 'Ronaldo': 26,\n",
       " 'Janaina': 25,\n",
       " 'Camila': 27,\n",
       " 'Adriana': 28,\n",
       " 'Roberta': 26}"
      ]
     },
     "execution_count": 24,
     "metadata": {},
     "output_type": "execute_result"
    }
   ],
   "source": [
    "estudantes"
   ]
  },
  {
   "cell_type": "code",
   "execution_count": null,
   "id": "e8a77d8d",
   "metadata": {},
   "outputs": [],
   "source": [
    "dic1 = {}"
   ]
  },
  {
   "cell_type": "code",
   "execution_count": null,
   "id": "190a9072",
   "metadata": {},
   "outputs": [],
   "source": [
    "dic1[\"chave_um\"] = 2"
   ]
  },
  {
   "cell_type": "code",
   "execution_count": null,
   "id": "8b3ecfbe",
   "metadata": {},
   "outputs": [],
   "source": [
    "dic1[10] = 5"
   ]
  },
  {
   "cell_type": "code",
   "execution_count": null,
   "id": "dcc653c0",
   "metadata": {},
   "outputs": [
    {
     "data": {
      "text/plain": [
       "{'chave_um': 2, 10: 5}"
      ]
     },
     "execution_count": 29,
     "metadata": {},
     "output_type": "execute_result"
    }
   ],
   "source": [
    "dic1\n",
    "# Dentro da chave \"chave_um\" contem o valor 2, e dentro da chave 10 contem o valor 5"
   ]
  },
  {
   "cell_type": "code",
   "execution_count": null,
   "id": "336588df",
   "metadata": {},
   "outputs": [],
   "source": [
    "dic1[9.13] = \"Python\""
   ]
  },
  {
   "cell_type": "code",
   "execution_count": null,
   "id": "c1b7fbbe",
   "metadata": {},
   "outputs": [
    {
     "data": {
      "text/plain": [
       "{'chave_um': 2, 10: 5, 9.13: 'Python'}"
      ]
     },
     "execution_count": 31,
     "metadata": {},
     "output_type": "execute_result"
    }
   ],
   "source": [
    "dic1"
   ]
  },
  {
   "cell_type": "code",
   "execution_count": null,
   "id": "a8b68854",
   "metadata": {},
   "outputs": [],
   "source": [
    "dic1[\"teste\"] = 5"
   ]
  },
  {
   "cell_type": "code",
   "execution_count": null,
   "id": "945de49a",
   "metadata": {},
   "outputs": [
    {
     "data": {
      "text/plain": [
       "{'chave_um': 2, 10: 5, 9.13: 'Python', 'teste': 5}"
      ]
     },
     "execution_count": 33,
     "metadata": {},
     "output_type": "execute_result"
    }
   ],
   "source": [
    "dic1"
   ]
  },
  {
   "cell_type": "code",
   "execution_count": null,
   "id": "fe275837",
   "metadata": {},
   "outputs": [],
   "source": [
    "dict1 = {}"
   ]
  },
  {
   "cell_type": "code",
   "execution_count": null,
   "id": "65e6fec0",
   "metadata": {},
   "outputs": [],
   "source": [
    "dict1[\"teste\"] = 10"
   ]
  },
  {
   "cell_type": "code",
   "execution_count": null,
   "id": "77b5b0f5",
   "metadata": {},
   "outputs": [],
   "source": [
    "dict1[\"key\"] = \"teste\""
   ]
  },
  {
   "cell_type": "code",
   "execution_count": null,
   "id": "a1c190f3",
   "metadata": {},
   "outputs": [
    {
     "data": {
      "text/plain": [
       "{'teste': 10, 'key': 'teste'}"
      ]
     },
     "execution_count": 37,
     "metadata": {},
     "output_type": "execute_result"
    }
   ],
   "source": [
    "dict1"
   ]
  },
  {
   "cell_type": "code",
   "execution_count": null,
   "id": "4d8adf91",
   "metadata": {},
   "outputs": [],
   "source": [
    "dict2 = {}"
   ]
  },
  {
   "cell_type": "code",
   "execution_count": null,
   "id": "352c5e5a",
   "metadata": {},
   "outputs": [],
   "source": [
    "dict2[\"key1\"] = \"Data Science\""
   ]
  },
  {
   "cell_type": "code",
   "execution_count": null,
   "id": "0f0e427b",
   "metadata": {},
   "outputs": [],
   "source": [
    "dict2[\"key2\"] = 10"
   ]
  },
  {
   "cell_type": "code",
   "execution_count": null,
   "id": "0860b059",
   "metadata": {},
   "outputs": [],
   "source": [
    "dict2[\"key3\"] = 100"
   ]
  },
  {
   "cell_type": "code",
   "execution_count": null,
   "id": "a4a07737",
   "metadata": {},
   "outputs": [
    {
     "data": {
      "text/plain": [
       "{'key1': 'Data Science', 'key2': 10, 'key3': 100}"
      ]
     },
     "execution_count": 43,
     "metadata": {},
     "output_type": "execute_result"
    }
   ],
   "source": [
    "dict2"
   ]
  },
  {
   "cell_type": "code",
   "execution_count": null,
   "id": "0c36a4cb",
   "metadata": {},
   "outputs": [],
   "source": [
    "a = dict2[\"key1\"] # dentro da chave \"key1\" contem o valor \"Data Science\" mas estamos armazenando o valor na variavel a\n",
    "b = dict2[\"key2\"] # dentro da chave \"key2\" contem o valor 10 mas estamos armazenando o valor na variavel b\n",
    "c = dict2[\"key3\"] # dentro da chave \"key3\" contem o valor 100 mas estamos armazenando o valor na variavel c"
   ]
  },
  {
   "cell_type": "code",
   "execution_count": null,
   "id": "d36e9e09",
   "metadata": {},
   "outputs": [
    {
     "data": {
      "text/plain": [
       "('Data Science', 10, 100)"
      ]
     },
     "execution_count": 46,
     "metadata": {},
     "output_type": "execute_result"
    }
   ],
   "source": [
    "a, b, c"
   ]
  },
  {
   "cell_type": "code",
   "execution_count": null,
   "id": "1a48bec4",
   "metadata": {},
   "outputs": [],
   "source": [
    "dict3 = {'chave1': 1230, 'chave2': [22,453,73.4], 'chave3': ['picanha', 'fraldinha', 'alcatra']}"
   ]
  },
  {
   "cell_type": "code",
   "execution_count": null,
   "id": "2b65d465",
   "metadata": {},
   "outputs": [
    {
     "data": {
      "text/plain": [
       "{'chave1': 1230,\n",
       " 'chave2': [22, 453, 73.4],\n",
       " 'chave3': ['picanha', 'fraldinha', 'alcatra']}"
      ]
     },
     "execution_count": 48,
     "metadata": {},
     "output_type": "execute_result"
    }
   ],
   "source": [
    "dict3"
   ]
  },
  {
   "cell_type": "code",
   "execution_count": null,
   "id": "0011e2ef",
   "metadata": {},
   "outputs": [
    {
     "data": {
      "text/plain": [
       "[22, 453, 73.4]"
      ]
     },
     "execution_count": 49,
     "metadata": {},
     "output_type": "execute_result"
    }
   ],
   "source": [
    "dict3[\"chave2\"]"
   ]
  },
  {
   "cell_type": "code",
   "execution_count": null,
   "id": "3c190088",
   "metadata": {},
   "outputs": [
    {
     "data": {
      "text/plain": [
       "'PICANHA'"
      ]
     },
     "execution_count": 50,
     "metadata": {},
     "output_type": "execute_result"
    }
   ],
   "source": [
    "dict3['chave3'][0].upper()\n",
    "# acessando o primeiro elemento da lista da chave 'chave3' e transformando em maiúscula"
   ]
  },
  {
   "cell_type": "code",
   "execution_count": null,
   "id": "b7e06fc1",
   "metadata": {},
   "outputs": [],
   "source": [
    "# Operações com itens da lista, dentro do dicionario\n",
    "var1 = dict3['chave2'][0] - 2"
   ]
  },
  {
   "cell_type": "code",
   "execution_count": null,
   "id": "111ecc3d",
   "metadata": {},
   "outputs": [
    {
     "data": {
      "text/plain": [
       "20"
      ]
     },
     "execution_count": 52,
     "metadata": {},
     "output_type": "execute_result"
    }
   ],
   "source": [
    "var1"
   ]
  },
  {
   "cell_type": "code",
   "execution_count": null,
   "id": "13e45268",
   "metadata": {},
   "outputs": [],
   "source": [
    "dict3[\"chave2\"][0] -= 2"
   ]
  },
  {
   "cell_type": "code",
   "execution_count": null,
   "id": "19413225",
   "metadata": {},
   "outputs": [
    {
     "data": {
      "text/plain": [
       "{'chave1': 1230,\n",
       " 'chave2': [20, 453, 73.4],\n",
       " 'chave3': ['picanha', 'fraldinha', 'alcatra']}"
      ]
     },
     "execution_count": 54,
     "metadata": {},
     "output_type": "execute_result"
    }
   ],
   "source": [
    "dict3"
   ]
  },
  {
   "cell_type": "markdown",
   "id": "f3f9d855",
   "metadata": {},
   "source": [
    "**Criando Dicionarios Aninhados**"
   ]
  },
  {
   "cell_type": "code",
   "execution_count": null,
   "id": "6fe061d1",
   "metadata": {},
   "outputs": [],
   "source": [
    "dict_aninhado = {'key1': {'key2_aninhada':{'key3_aninhada': 'dict aninhado em Python'}}}"
   ]
  },
  {
   "cell_type": "code",
   "execution_count": null,
   "id": "9d354f24",
   "metadata": {},
   "outputs": [
    {
     "data": {
      "text/plain": [
       "{'key1': {'key2_aninhada': {'key3_aninhada': 'dict aninhado em Python'}}}"
      ]
     },
     "execution_count": 56,
     "metadata": {},
     "output_type": "execute_result"
    }
   ],
   "source": [
    "dict_aninhado"
   ]
  },
  {
   "cell_type": "code",
   "execution_count": null,
   "id": "c7d9dfe3",
   "metadata": {},
   "outputs": [
    {
     "data": {
      "text/plain": [
       "'dict aninhado em Python'"
      ]
     },
     "execution_count": 58,
     "metadata": {},
     "output_type": "execute_result"
    }
   ],
   "source": [
    "dict_aninhado['key1']['key2_aninhada']['key3_aninhada']\n",
    "\n",
    "# Acessando o valor do dicionário aninhado pelo nome das chaves, podemos fazer o seguinte:\n",
    "# dict_aninhado['key1']['key2_aninhada']['key3_aninhada'] -> acessa a chave key1, logo dentro dela, acessa a key2_aninhada\n",
    "# logo dentro dela, acessa a key3_aninhada, que retorna o primeiro valor dela\n",
    "\n",
    "# regra em python, toda vez que for buscar algo em dicionarios, use colchetes [] e os nomes das chaves, as chaves não sabem que ela são as primeiras chaves\n",
    "# apenas valores sabe quais são suas posições."
   ]
  },
  {
   "cell_type": "markdown",
   "id": "b978282e",
   "metadata": {},
   "source": [
    "**Fim**"
   ]
  }
 ],
 "metadata": {
  "kernelspec": {
   "display_name": "Python 3",
   "language": "python",
   "name": "python3"
  },
  "language_info": {
   "codemirror_mode": {
    "name": "ipython",
    "version": 3
   },
   "file_extension": ".py",
   "mimetype": "text/x-python",
   "name": "python",
   "nbconvert_exporter": "python",
   "pygments_lexer": "ipython3",
   "version": "3.13.3"
  }
 },
 "nbformat": 4,
 "nbformat_minor": 5
}
