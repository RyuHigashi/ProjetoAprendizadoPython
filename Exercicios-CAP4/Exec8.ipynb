{
 "cells": [
  {
   "cell_type": "code",
   "execution_count": 2,
   "id": "50607651",
   "metadata": {},
   "outputs": [],
   "source": [
    "dict1 = {'key0': 1, 'key1': [1, 2], 'key2': 2}"
   ]
  },
  {
   "cell_type": "code",
   "execution_count": 4,
   "id": "463938a6",
   "metadata": {},
   "outputs": [
    {
     "data": {
      "text/plain": [
       "{'key0': 1, 'key1': [1, 2], 'key2': 2}"
      ]
     },
     "execution_count": 4,
     "metadata": {},
     "output_type": "execute_result"
    }
   ],
   "source": [
    "dict1"
   ]
  },
  {
   "cell_type": "code",
   "execution_count": 6,
   "id": "d17a8dc9",
   "metadata": {},
   "outputs": [
    {
     "data": {
      "text/plain": [
       "[1, 2]"
      ]
     },
     "execution_count": 6,
     "metadata": {},
     "output_type": "execute_result"
    }
   ],
   "source": [
    "dict1['key1']"
   ]
  }
 ],
 "metadata": {
  "kernelspec": {
   "display_name": "Python 3",
   "language": "python",
   "name": "python3"
  },
  "language_info": {
   "codemirror_mode": {
    "name": "ipython",
    "version": 3
   },
   "file_extension": ".py",
   "mimetype": "text/x-python",
   "name": "python",
   "nbconvert_exporter": "python",
   "pygments_lexer": "ipython3",
   "version": "3.13.3"
  }
 },
 "nbformat": 4,
 "nbformat_minor": 5
}
