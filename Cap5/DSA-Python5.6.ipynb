{
 "cells": [
  {
   "cell_type": "markdown",
   "id": "f173c800",
   "metadata": {},
   "source": [
    "**Funções**"
   ]
  },
  {
   "cell_type": "code",
   "execution_count": null,
   "id": "42473ba7",
   "metadata": {},
   "outputs": [],
   "source": [
    "print(\"Hello World\")"
   ]
  },
  {
   "cell_type": "code",
   "execution_count": 1,
   "id": "4dbcf913",
   "metadata": {},
   "outputs": [],
   "source": [
    "# definindo a primeira função\n",
    "def primeiraFunc():\n",
    "    print(\"Hello World\")"
   ]
  },
  {
   "cell_type": "code",
   "execution_count": 2,
   "id": "3d7da396",
   "metadata": {},
   "outputs": [
    {
     "name": "stdout",
     "output_type": "stream",
     "text": [
      "Hello World\n"
     ]
    }
   ],
   "source": [
    "# executando a função\n",
    "primeiraFunc()"
   ]
  },
  {
   "cell_type": "code",
   "execution_count": 3,
   "id": "6e49c82d",
   "metadata": {},
   "outputs": [],
   "source": [
    "def primeiraFunc():\n",
    "    nome = \"Bob\"\n",
    "    print(f\"Hello {nome}\")"
   ]
  },
  {
   "cell_type": "code",
   "execution_count": 4,
   "id": "0f024a58",
   "metadata": {},
   "outputs": [
    {
     "name": "stdout",
     "output_type": "stream",
     "text": [
      "Hello Bob\n"
     ]
    }
   ],
   "source": [
    "primeiraFunc()"
   ]
  },
  {
   "cell_type": "code",
   "execution_count": 6,
   "id": "d2dcc8e2",
   "metadata": {},
   "outputs": [],
   "source": [
    "# Definindo a função com parâmetro\n",
    "def segundaFunc(nome):\n",
    "    print(f\"Hello {nome}\")"
   ]
  },
  {
   "cell_type": "code",
   "execution_count": 7,
   "id": "de7cfc84",
   "metadata": {},
   "outputs": [
    {
     "name": "stdout",
     "output_type": "stream",
     "text": [
      "Hello Ryu\n"
     ]
    }
   ],
   "source": [
    "segundaFunc(\"Ryu\")"
   ]
  },
  {
   "cell_type": "code",
   "execution_count": 8,
   "id": "099c9e3e",
   "metadata": {},
   "outputs": [],
   "source": [
    "def imprimeNumeros():\n",
    "    for i in range(0, 5):\n",
    "        print(f\"Numero {i}\")"
   ]
  },
  {
   "cell_type": "code",
   "execution_count": 9,
   "id": "5f59549b",
   "metadata": {},
   "outputs": [
    {
     "name": "stdout",
     "output_type": "stream",
     "text": [
      "Numero 0\n",
      "Numero 1\n",
      "Numero 2\n",
      "Numero 3\n",
      "Numero 4\n"
     ]
    }
   ],
   "source": [
    "imprimeNumeros()"
   ]
  },
  {
   "cell_type": "code",
   "execution_count": 10,
   "id": "ec2fb678",
   "metadata": {},
   "outputs": [],
   "source": [
    "# Função para somar numeros\n",
    "\n",
    "def addNum(a, b):\n",
    "    print(f\"1º Numero {a}\")\n",
    "    print(f\"2º Numero {b}\")\n",
    "    print(f'A soma é {a + b}')"
   ]
  },
  {
   "cell_type": "code",
   "execution_count": 11,
   "id": "342bafa3",
   "metadata": {},
   "outputs": [
    {
     "name": "stdout",
     "output_type": "stream",
     "text": [
      "1º Numero 5\n",
      "2º Numero 7\n",
      "A soma é 12\n"
     ]
    }
   ],
   "source": [
    "addNum(5, 7)"
   ]
  },
  {
   "cell_type": "code",
   "execution_count": 12,
   "id": "ae2ab054",
   "metadata": {},
   "outputs": [],
   "source": [
    "# Funções com numero variavel de argumentos\n",
    "\n",
    "def printVarInfo( arg1, *vartuple):\n",
    "    print(f\"O argumento passado foi: {arg1}\")\n",
    "\n",
    "    for item in vartuple:\n",
    "        print(f\"O Argumento passado foi: {item}\")\n",
    "    return;\n"
   ]
  },
  {
   "cell_type": "code",
   "execution_count": 13,
   "id": "cfdc6f60",
   "metadata": {},
   "outputs": [
    {
     "name": "stdout",
     "output_type": "stream",
     "text": [
      "O argumento passado foi: 10\n"
     ]
    }
   ],
   "source": [
    "printVarInfo(10)"
   ]
  },
  {
   "cell_type": "code",
   "execution_count": 14,
   "id": "2ec5b677",
   "metadata": {},
   "outputs": [
    {
     "name": "stdout",
     "output_type": "stream",
     "text": [
      "O argumento passado foi: Chocolate\n",
      "O Argumento passado foi: Banana\n"
     ]
    }
   ],
   "source": [
    "printVarInfo('Chocolate', 'Banana')"
   ]
  },
  {
   "cell_type": "code",
   "execution_count": 15,
   "id": "3d058b9d",
   "metadata": {},
   "outputs": [
    {
     "name": "stdout",
     "output_type": "stream",
     "text": [
      "O argumento passado foi: Data\n",
      "O Argumento passado foi: Science\n",
      "O Argumento passado foi: Academy\n"
     ]
    }
   ],
   "source": [
    "printVarInfo(\"Data\", \"Science\", \"Academy\")"
   ]
  },
  {
   "cell_type": "markdown",
   "id": "0463f941",
   "metadata": {},
   "source": [
    "**Escopo de Variavel - Local e Global**"
   ]
  },
  {
   "cell_type": "code",
   "execution_count": 21,
   "id": "ee3d14a8",
   "metadata": {},
   "outputs": [],
   "source": [
    "# Variavel Global\n",
    "\n",
    "var_global = 10 # Está é uma variavel global\n",
    "\n",
    "# Função\n",
    "def multNumeros(num1, num2):\n",
    "    var_global = num1 * num2 # Variavel Local\n",
    "    print(var_global)"
   ]
  },
  {
   "cell_type": "code",
   "execution_count": 22,
   "id": "c8482ab6",
   "metadata": {},
   "outputs": [
    {
     "name": "stdout",
     "output_type": "stream",
     "text": [
      "32\n"
     ]
    }
   ],
   "source": [
    "multNumeros(4, 8)"
   ]
  },
  {
   "cell_type": "code",
   "execution_count": 24,
   "id": "dd7bd004",
   "metadata": {},
   "outputs": [
    {
     "name": "stdout",
     "output_type": "stream",
     "text": [
      "10\n"
     ]
    }
   ],
   "source": [
    "print(var_global)\n",
    "\n",
    "# As variaveis globais, elas só atendem fora das funções\n",
    "# Ao entrar em uma função, você pode usar outra variavel com o mesmo nome\n"
   ]
  },
  {
   "cell_type": "code",
   "execution_count": 25,
   "id": "9d8c5780",
   "metadata": {},
   "outputs": [
    {
     "data": {
      "text/plain": [
       "56"
      ]
     },
     "execution_count": 25,
     "metadata": {},
     "output_type": "execute_result"
    }
   ],
   "source": [
    "abs(-56)"
   ]
  },
  {
   "cell_type": "code",
   "execution_count": 26,
   "id": "f780a404",
   "metadata": {},
   "outputs": [
    {
     "data": {
      "text/plain": [
       "23"
      ]
     },
     "execution_count": 26,
     "metadata": {},
     "output_type": "execute_result"
    }
   ],
   "source": [
    "abs(23)"
   ]
  },
  {
   "cell_type": "code",
   "execution_count": 27,
   "id": "fe4aafdb",
   "metadata": {},
   "outputs": [
    {
     "data": {
      "text/plain": [
       "False"
      ]
     },
     "execution_count": 27,
     "metadata": {},
     "output_type": "execute_result"
    }
   ],
   "source": [
    "bool(0)"
   ]
  },
  {
   "cell_type": "code",
   "execution_count": 28,
   "id": "1a6241ab",
   "metadata": {},
   "outputs": [
    {
     "data": {
      "text/plain": [
       "True"
      ]
     },
     "execution_count": 28,
     "metadata": {},
     "output_type": "execute_result"
    }
   ],
   "source": [
    "bool(1)"
   ]
  },
  {
   "cell_type": "code",
   "execution_count": 29,
   "id": "6c697c4f",
   "metadata": {},
   "outputs": [
    {
     "data": {
      "text/plain": [
       "4"
      ]
     },
     "execution_count": 29,
     "metadata": {},
     "output_type": "execute_result"
    }
   ],
   "source": [
    "int(4.3)"
   ]
  },
  {
   "cell_type": "code",
   "execution_count": 30,
   "id": "1bf47744",
   "metadata": {},
   "outputs": [
    {
     "data": {
      "text/plain": [
       "'13'"
      ]
     },
     "execution_count": 30,
     "metadata": {},
     "output_type": "execute_result"
    }
   ],
   "source": [
    "str(13)"
   ]
  },
  {
   "cell_type": "code",
   "execution_count": 31,
   "id": "66e92f5c",
   "metadata": {},
   "outputs": [
    {
     "data": {
      "text/plain": [
       "5.0"
      ]
     },
     "execution_count": 31,
     "metadata": {},
     "output_type": "execute_result"
    }
   ],
   "source": [
    "float(5)"
   ]
  },
  {
   "cell_type": "code",
   "execution_count": 32,
   "id": "03fe4b56",
   "metadata": {},
   "outputs": [
    {
     "ename": "TypeError",
     "evalue": "'>' not supported between instances of 'str' and 'int'",
     "output_type": "error",
     "traceback": [
      "\u001b[31m---------------------------------------------------------------------------\u001b[39m",
      "\u001b[31mTypeError\u001b[39m                                 Traceback (most recent call last)",
      "\u001b[36mCell\u001b[39m\u001b[36m \u001b[39m\u001b[32mIn[32]\u001b[39m\u001b[32m, line 4\u001b[39m\n\u001b[32m      1\u001b[39m \u001b[38;5;66;03m# Erro ao executar por causa da conversão\u001b[39;00m\n\u001b[32m      3\u001b[39m idade = \u001b[38;5;28minput\u001b[39m(\u001b[33m\"\u001b[39m\u001b[33mDigite sua idade: \u001b[39m\u001b[33m\"\u001b[39m)\n\u001b[32m----> \u001b[39m\u001b[32m4\u001b[39m \u001b[38;5;28;01mif\u001b[39;00m \u001b[43midade\u001b[49m\u001b[43m \u001b[49m\u001b[43m>\u001b[49m\u001b[43m \u001b[49m\u001b[32;43m13\u001b[39;49m:\n\u001b[32m      5\u001b[39m     \u001b[38;5;28mprint\u001b[39m(\u001b[33m\"\u001b[39m\u001b[33mVocê pode acessar Redes Sociais sem supervisão!\u001b[39m\u001b[33m\"\u001b[39m)\n\u001b[32m      6\u001b[39m \u001b[38;5;28;01melse\u001b[39;00m:\n",
      "\u001b[31mTypeError\u001b[39m: '>' not supported between instances of 'str' and 'int'"
     ]
    }
   ],
   "source": [
    "# Erro ao executar por causa da conversão\n",
    "\n",
    "idade = input(\"Digite sua idade: \")\n",
    "if idade > 13:\n",
    "    print(\"Você pode acessar Redes Sociais sem supervisão!\")\n",
    "else:\n",
    "    print(\"Você não pode acessar a rede social sem seus pais.\")"
   ]
  },
  {
   "cell_type": "code",
   "execution_count": 33,
   "id": "5d7059df",
   "metadata": {},
   "outputs": [
    {
     "name": "stdout",
     "output_type": "stream",
     "text": [
      "Você pode acessar Redes Sociais sem supervisão!\n"
     ]
    }
   ],
   "source": [
    "idade = int(input(\"Digite sua idade: \"))\n",
    "if idade > 13:\n",
    "    print(\"Você pode acessar Redes Sociais sem supervisão!\")\n",
    "else:\n",
    "    print(\"Você não pode acessar a rede social sem seus pais.\")"
   ]
  },
  {
   "cell_type": "code",
   "execution_count": 34,
   "id": "78b6786e",
   "metadata": {},
   "outputs": [
    {
     "data": {
      "text/plain": [
       "26"
      ]
     },
     "execution_count": 34,
     "metadata": {},
     "output_type": "execute_result"
    }
   ],
   "source": [
    "int(\"26\")"
   ]
  },
  {
   "cell_type": "code",
   "execution_count": 36,
   "id": "22bc3c12",
   "metadata": {},
   "outputs": [
    {
     "data": {
      "text/plain": [
       "123.345"
      ]
     },
     "execution_count": 36,
     "metadata": {},
     "output_type": "execute_result"
    }
   ],
   "source": [
    "float(\"123.345\") # Não é possivel inserir uma letra dentro dessa string para se tornar float\n"
   ]
  },
  {
   "cell_type": "code",
   "execution_count": 37,
   "id": "5583acf2",
   "metadata": {},
   "outputs": [
    {
     "data": {
      "text/plain": [
       "'14'"
      ]
     },
     "execution_count": 37,
     "metadata": {},
     "output_type": "execute_result"
    }
   ],
   "source": [
    "str(14)"
   ]
  },
  {
   "cell_type": "code",
   "execution_count": 38,
   "id": "2a22149b",
   "metadata": {},
   "outputs": [
    {
     "data": {
      "text/plain": [
       "4"
      ]
     },
     "execution_count": 38,
     "metadata": {},
     "output_type": "execute_result"
    }
   ],
   "source": [
    "len([23, 34, 45, 56])"
   ]
  },
  {
   "cell_type": "code",
   "execution_count": 39,
   "id": "d723ff0d",
   "metadata": {},
   "outputs": [],
   "source": [
    "array = [1, 2, 3]"
   ]
  },
  {
   "cell_type": "code",
   "execution_count": 40,
   "id": "0e686767",
   "metadata": {},
   "outputs": [
    {
     "data": {
      "text/plain": [
       "3"
      ]
     },
     "execution_count": 40,
     "metadata": {},
     "output_type": "execute_result"
    }
   ],
   "source": [
    "max(array)"
   ]
  },
  {
   "cell_type": "code",
   "execution_count": 41,
   "id": "e4bd12ae",
   "metadata": {},
   "outputs": [
    {
     "data": {
      "text/plain": [
       "1"
      ]
     },
     "execution_count": 41,
     "metadata": {},
     "output_type": "execute_result"
    }
   ],
   "source": [
    "min(array)"
   ]
  },
  {
   "cell_type": "code",
   "execution_count": 42,
   "id": "4ba8dfcc",
   "metadata": {},
   "outputs": [],
   "source": [
    "list1 = [16, 23, 44, 75]"
   ]
  },
  {
   "cell_type": "code",
   "execution_count": 43,
   "id": "c12d7c07",
   "metadata": {},
   "outputs": [
    {
     "data": {
      "text/plain": [
       "158"
      ]
     },
     "execution_count": 43,
     "metadata": {},
     "output_type": "execute_result"
    }
   ],
   "source": [
    "sum(list1)"
   ]
  },
  {
   "cell_type": "markdown",
   "id": "025249d5",
   "metadata": {},
   "source": [
    "**Criando Funções usando outras funções**"
   ]
  },
  {
   "cell_type": "code",
   "execution_count": 1,
   "id": "07cebcd3",
   "metadata": {},
   "outputs": [],
   "source": [
    "import math\n",
    "# Verificando se im numero é primo\n",
    "\n",
    "def numPrimo(num):\n",
    "    if (num % 2) == 0 and num > 2:\n",
    "        return \"Este numero não é primo\"\n",
    "    for i in range(3, int(math.sqrt(num)) + 1, 2):\n",
    "        if (num % i) == 0:\n",
    "            return 'Este numero não é primo!'\n",
    "    return \"Este numero é primo\""
   ]
  },
  {
   "cell_type": "code",
   "execution_count": 2,
   "id": "b35ed56a",
   "metadata": {},
   "outputs": [
    {
     "data": {
      "text/plain": [
       "'Este numero é primo'"
      ]
     },
     "execution_count": 2,
     "metadata": {},
     "output_type": "execute_result"
    }
   ],
   "source": [
    "numPrimo(541)"
   ]
  },
  {
   "cell_type": "code",
   "execution_count": 3,
   "id": "ce31bd7b",
   "metadata": {},
   "outputs": [],
   "source": [
    "caixa_baixa = \"Este texto deveria estar todo em lowercase\""
   ]
  },
  {
   "cell_type": "code",
   "execution_count": 4,
   "id": "4da7c11e",
   "metadata": {},
   "outputs": [],
   "source": [
    "def lowerCase(text):\n",
    "    return text.lower()"
   ]
  },
  {
   "cell_type": "code",
   "execution_count": 5,
   "id": "4bee983a",
   "metadata": {},
   "outputs": [
    {
     "data": {
      "text/plain": [
       "'este texto deveria estar todo em lowercase'"
      ]
     },
     "execution_count": 5,
     "metadata": {},
     "output_type": "execute_result"
    }
   ],
   "source": [
    "lowerCase(caixa_baixa)"
   ]
  },
  {
   "cell_type": "markdown",
   "id": "1faf4830",
   "metadata": {},
   "source": [
    "**Fazendo split dos dados**"
   ]
  },
  {
   "cell_type": "code",
   "execution_count": 6,
   "id": "7007a676",
   "metadata": {},
   "outputs": [],
   "source": [
    "def split_string_palavras(text):\n",
    "    return text.split(\" \")"
   ]
  },
  {
   "cell_type": "code",
   "execution_count": 7,
   "id": "0eb71354",
   "metadata": {},
   "outputs": [],
   "source": [
    "texto = \"Está função será bastante util para separar grandes volumes de dados\""
   ]
  },
  {
   "cell_type": "code",
   "execution_count": 8,
   "id": "995dc4e8",
   "metadata": {},
   "outputs": [
    {
     "data": {
      "text/plain": [
       "['Está',\n",
       " 'função',\n",
       " 'será',\n",
       " 'bastante',\n",
       " 'util',\n",
       " 'para',\n",
       " 'separar',\n",
       " 'grandes',\n",
       " 'volumes',\n",
       " 'de',\n",
       " 'dados']"
      ]
     },
     "execution_count": 8,
     "metadata": {},
     "output_type": "execute_result"
    }
   ],
   "source": [
    "split_string_palavras(texto)"
   ]
  },
  {
   "cell_type": "code",
   "execution_count": 9,
   "id": "0d58a373",
   "metadata": {},
   "outputs": [],
   "source": [
    "def split_string_letras(text):\n",
    "    texto = text.upper()\n",
    "    for letra in texto:\n",
    "        print(letra)"
   ]
  },
  {
   "cell_type": "code",
   "execution_count": 10,
   "id": "23da0020",
   "metadata": {},
   "outputs": [
    {
     "name": "stdout",
     "output_type": "stream",
     "text": [
      "E\n",
      "S\n",
      "T\n",
      "Á\n",
      " \n",
      "F\n",
      "U\n",
      "N\n",
      "Ç\n",
      "Ã\n",
      "O\n",
      " \n",
      "S\n",
      "E\n",
      "R\n",
      "Á\n",
      " \n",
      "B\n",
      "A\n",
      "S\n",
      "T\n",
      "A\n",
      "N\n",
      "T\n",
      "E\n",
      " \n",
      "U\n",
      "T\n",
      "I\n",
      "L\n",
      " \n",
      "P\n",
      "A\n",
      "R\n",
      "A\n",
      " \n",
      "S\n",
      "E\n",
      "P\n",
      "A\n",
      "R\n",
      "A\n",
      "R\n",
      " \n",
      "G\n",
      "R\n",
      "A\n",
      "N\n",
      "D\n",
      "E\n",
      "S\n",
      " \n",
      "V\n",
      "O\n",
      "L\n",
      "U\n",
      "M\n",
      "E\n",
      "S\n",
      " \n",
      "D\n",
      "E\n",
      " \n",
      "D\n",
      "A\n",
      "D\n",
      "O\n",
      "S\n"
     ]
    }
   ],
   "source": [
    "split_string_letras(texto)"
   ]
  },
  {
   "cell_type": "markdown",
   "id": "8f49964e",
   "metadata": {},
   "source": [
    "**Fim**"
   ]
  }
 ],
 "metadata": {
  "kernelspec": {
   "display_name": "Python 3",
   "language": "python",
   "name": "python3"
  },
  "language_info": {
   "codemirror_mode": {
    "name": "ipython",
    "version": 3
   },
   "file_extension": ".py",
   "mimetype": "text/x-python",
   "name": "python",
   "nbconvert_exporter": "python",
   "pygments_lexer": "ipython3",
   "version": "3.13.7"
  }
 },
 "nbformat": 4,
 "nbformat_minor": 5
}
