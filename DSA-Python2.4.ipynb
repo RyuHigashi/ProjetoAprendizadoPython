{
 "cells": [
  {
   "cell_type": "markdown",
   "id": "5609e635",
   "metadata": {},
   "source": [
    "**Lista em Python**\n"
   ]
  },
  {
   "cell_type": "code",
   "execution_count": 2,
   "id": "a1fb2041",
   "metadata": {},
   "outputs": [],
   "source": [
    "# Criando uma lista\n",
    "\n",
    "lista_1 = [\"Arroz, frango, tomate, leite\"]"
   ]
  },
  {
   "cell_type": "code",
   "execution_count": null,
   "id": "b26a589c",
   "metadata": {},
   "outputs": [
    {
     "data": {
      "text/plain": [
       "list"
      ]
     },
     "execution_count": 3,
     "metadata": {},
     "output_type": "execute_result"
    }
   ],
   "source": [
    "# Tipo de lista\n",
    "type(lista_1)"
   ]
  },
  {
   "cell_type": "code",
   "execution_count": 4,
   "id": "d203f6d4",
   "metadata": {},
   "outputs": [
    {
     "name": "stdout",
     "output_type": "stream",
     "text": [
      "['Arroz, frango, tomate, leite']\n"
     ]
    }
   ],
   "source": [
    "# Imprimindo a Lista\n",
    "print(lista_1)"
   ]
  },
  {
   "cell_type": "code",
   "execution_count": 5,
   "id": "eae74af0",
   "metadata": {},
   "outputs": [],
   "source": [
    "# Criando outra lista com valores independentes\n",
    "lista_2 = [\"arroz\", \"frango\", \"tomate\", \"leite\"]"
   ]
  },
  {
   "cell_type": "code",
   "execution_count": 6,
   "id": "0b6cc2e8",
   "metadata": {},
   "outputs": [
    {
     "data": {
      "text/plain": [
       "list"
      ]
     },
     "execution_count": 6,
     "metadata": {},
     "output_type": "execute_result"
    }
   ],
   "source": [
    "type(lista_2)"
   ]
  },
  {
   "cell_type": "code",
   "execution_count": 7,
   "id": "6b32f3db",
   "metadata": {},
   "outputs": [
    {
     "name": "stdout",
     "output_type": "stream",
     "text": [
      "['arroz', 'frango', 'tomate', 'leite']\n"
     ]
    }
   ],
   "source": [
    "print(lista_2)"
   ]
  },
  {
   "cell_type": "code",
   "execution_count": 14,
   "id": "4ce49a62",
   "metadata": {},
   "outputs": [],
   "source": [
    "lista_3 = [23, 100, \"Cientista de Dados\"]"
   ]
  },
  {
   "cell_type": "code",
   "execution_count": 15,
   "id": "90b69e39",
   "metadata": {},
   "outputs": [
    {
     "data": {
      "text/plain": [
       "list"
      ]
     },
     "execution_count": 15,
     "metadata": {},
     "output_type": "execute_result"
    }
   ],
   "source": [
    "type(lista_3)"
   ]
  },
  {
   "cell_type": "code",
   "execution_count": 16,
   "id": "a3b61034",
   "metadata": {},
   "outputs": [
    {
     "name": "stdout",
     "output_type": "stream",
     "text": [
      "[23, 100, 'Cientista de Dados']\n"
     ]
    }
   ],
   "source": [
    "print(lista_3)"
   ]
  },
  {
   "cell_type": "code",
   "execution_count": 17,
   "id": "e73f2f60",
   "metadata": {},
   "outputs": [],
   "source": [
    "# Atribuindo cada valor da lista em uma variavel\n",
    "\n",
    "item1 = lista_3[0]\n",
    "item2 = lista_3[1]\n",
    "item3 = lista_3[2]"
   ]
  },
  {
   "cell_type": "code",
   "execution_count": 18,
   "id": "d96cacfb",
   "metadata": {},
   "outputs": [
    {
     "name": "stdout",
     "output_type": "stream",
     "text": [
      "23 100 Cientista de Dados\n"
     ]
    }
   ],
   "source": [
    "print(item1, item2, item3)"
   ]
  },
  {
   "cell_type": "markdown",
   "id": "61cc2b25",
   "metadata": {},
   "source": [
    "**Atualiandao um item da lista**"
   ]
  },
  {
   "cell_type": "code",
   "execution_count": 20,
   "id": "c637bd1b",
   "metadata": {},
   "outputs": [
    {
     "data": {
      "text/plain": [
       "'tomate'"
      ]
     },
     "execution_count": 20,
     "metadata": {},
     "output_type": "execute_result"
    }
   ],
   "source": [
    "lista_2[2]"
   ]
  },
  {
   "cell_type": "code",
   "execution_count": 21,
   "id": "ec5757e1",
   "metadata": {},
   "outputs": [],
   "source": [
    "lista_2[2] = \"chocolate\""
   ]
  },
  {
   "cell_type": "code",
   "execution_count": 22,
   "id": "309f5e87",
   "metadata": {},
   "outputs": [
    {
     "data": {
      "text/plain": [
       "['arroz', 'frango', 'chocolate', 'leite']"
      ]
     },
     "execution_count": 22,
     "metadata": {},
     "output_type": "execute_result"
    }
   ],
   "source": [
    "lista_2"
   ]
  },
  {
   "cell_type": "markdown",
   "id": "cbcb8829",
   "metadata": {},
   "source": [
    "**Deletando um Item da lista**"
   ]
  },
  {
   "cell_type": "code",
   "execution_count": null,
   "id": "f14facd9",
   "metadata": {},
   "outputs": [
    {
     "ename": "IndexError",
     "evalue": "list assignment index out of range",
     "output_type": "error",
     "traceback": [
      "\u001b[1;31m---------------------------------------------------------------------------\u001b[0m",
      "\u001b[1;31mIndexError\u001b[0m                                Traceback (most recent call last)",
      "Cell \u001b[1;32mIn[23], line 1\u001b[0m\n\u001b[1;32m----> 1\u001b[0m \u001b[38;5;28;01mdel\u001b[39;00m lista_2[\u001b[38;5;241m4\u001b[39m]\n",
      "\u001b[1;31mIndexError\u001b[0m: list assignment index out of range"
     ]
    }
   ],
   "source": [
    "# Não é possivel deletar algo que não existe na lista, Vai gerar erro de Index, OUT OF RANGE\n",
    "# del lista_2[10]  # Isso causaria um erro\n",
    "\n",
    "del lista_2[4]"
   ]
  },
  {
   "cell_type": "code",
   "execution_count": 24,
   "id": "223f39e9",
   "metadata": {},
   "outputs": [],
   "source": [
    "del lista_2[3]"
   ]
  },
  {
   "cell_type": "code",
   "execution_count": 25,
   "id": "21327988",
   "metadata": {},
   "outputs": [
    {
     "data": {
      "text/plain": [
       "['arroz', 'frango', 'chocolate']"
      ]
     },
     "execution_count": 25,
     "metadata": {},
     "output_type": "execute_result"
    }
   ],
   "source": [
    "lista_2"
   ]
  },
  {
   "cell_type": "markdown",
   "id": "149a07f1",
   "metadata": {},
   "source": [
    "**Lista de Listas aninhadas**"
   ]
  },
  {
   "cell_type": "code",
   "execution_count": 1,
   "id": "90936353",
   "metadata": {},
   "outputs": [],
   "source": [
    "# Criando uma lista de listas\n",
    "listas = [ [1,2,3], [10,15,14], [10.1, 8.7, 2.3]]"
   ]
  },
  {
   "cell_type": "code",
   "execution_count": 2,
   "id": "81e7d14f",
   "metadata": {},
   "outputs": [
    {
     "name": "stdout",
     "output_type": "stream",
     "text": [
      "[[1, 2, 3], [10, 15, 14], [10.1, 8.7, 2.3]]\n"
     ]
    }
   ],
   "source": [
    "print(listas)"
   ]
  },
  {
   "cell_type": "code",
   "execution_count": 13,
   "id": "ecfe3644",
   "metadata": {},
   "outputs": [],
   "source": [
    "a = listas[0]"
   ]
  },
  {
   "cell_type": "code",
   "execution_count": 14,
   "id": "51629e6e",
   "metadata": {},
   "outputs": [
    {
     "data": {
      "text/plain": [
       "[1, 2, 3]"
      ]
     },
     "execution_count": 14,
     "metadata": {},
     "output_type": "execute_result"
    }
   ],
   "source": [
    "a"
   ]
  },
  {
   "cell_type": "code",
   "execution_count": 15,
   "id": "394c7b3c",
   "metadata": {},
   "outputs": [],
   "source": [
    "b = a[0]"
   ]
  },
  {
   "cell_type": "code",
   "execution_count": 16,
   "id": "8ce3b0bc",
   "metadata": {},
   "outputs": [
    {
     "data": {
      "text/plain": [
       "1"
      ]
     },
     "execution_count": 16,
     "metadata": {},
     "output_type": "execute_result"
    }
   ],
   "source": [
    "b"
   ]
  },
  {
   "cell_type": "code",
   "execution_count": 17,
   "id": "9f66cd24",
   "metadata": {},
   "outputs": [],
   "source": [
    "list1 = listas[1]"
   ]
  },
  {
   "cell_type": "code",
   "execution_count": 18,
   "id": "0a7eef13",
   "metadata": {},
   "outputs": [
    {
     "data": {
      "text/plain": [
       "[10, 15, 14]"
      ]
     },
     "execution_count": 18,
     "metadata": {},
     "output_type": "execute_result"
    }
   ],
   "source": [
    "list1"
   ]
  },
  {
   "cell_type": "code",
   "execution_count": 19,
   "id": "34bcea65",
   "metadata": {},
   "outputs": [],
   "source": [
    "valor_1_0 = list1[0]"
   ]
  },
  {
   "cell_type": "code",
   "execution_count": 20,
   "id": "ad317078",
   "metadata": {},
   "outputs": [
    {
     "data": {
      "text/plain": [
       "10"
      ]
     },
     "execution_count": 20,
     "metadata": {},
     "output_type": "execute_result"
    }
   ],
   "source": [
    "valor_1_0"
   ]
  },
  {
   "cell_type": "code",
   "execution_count": 23,
   "id": "5352a0c8",
   "metadata": {},
   "outputs": [],
   "source": [
    "valor_1_2 = list1[2]"
   ]
  },
  {
   "cell_type": "code",
   "execution_count": 25,
   "id": "a75d74ce",
   "metadata": {},
   "outputs": [
    {
     "data": {
      "text/plain": [
       "14"
      ]
     },
     "execution_count": 25,
     "metadata": {},
     "output_type": "execute_result"
    }
   ],
   "source": [
    "valor_1_2"
   ]
  },
  {
   "cell_type": "code",
   "execution_count": 26,
   "id": "d93a51d6",
   "metadata": {},
   "outputs": [],
   "source": [
    "list2 = listas[2]"
   ]
  },
  {
   "cell_type": "code",
   "execution_count": 27,
   "id": "95bb705f",
   "metadata": {},
   "outputs": [
    {
     "data": {
      "text/plain": [
       "[10.1, 8.7, 2.3]"
      ]
     },
     "execution_count": 27,
     "metadata": {},
     "output_type": "execute_result"
    }
   ],
   "source": [
    "list2"
   ]
  },
  {
   "cell_type": "code",
   "execution_count": 28,
   "id": "13520092",
   "metadata": {},
   "outputs": [],
   "source": [
    "valor_2_0 = list2[0]"
   ]
  },
  {
   "cell_type": "code",
   "execution_count": 29,
   "id": "b0970253",
   "metadata": {},
   "outputs": [
    {
     "data": {
      "text/plain": [
       "10.1"
      ]
     },
     "execution_count": 29,
     "metadata": {},
     "output_type": "execute_result"
    }
   ],
   "source": [
    "valor_2_0"
   ]
  },
  {
   "cell_type": "markdown",
   "id": "68386664",
   "metadata": {},
   "source": [
    "**Operações com Listas**"
   ]
  },
  {
   "cell_type": "code",
   "execution_count": 30,
   "id": "6e877dc8",
   "metadata": {},
   "outputs": [],
   "source": [
    "listas = [ [1,2,3], [10,15,14], [10.1, 8.7, 2.3]]"
   ]
  },
  {
   "cell_type": "code",
   "execution_count": 31,
   "id": "c19a372f",
   "metadata": {},
   "outputs": [
    {
     "data": {
      "text/plain": [
       "[[1, 2, 3], [10, 15, 14], [10.1, 8.7, 2.3]]"
      ]
     },
     "execution_count": 31,
     "metadata": {},
     "output_type": "execute_result"
    }
   ],
   "source": [
    "listas"
   ]
  },
  {
   "cell_type": "code",
   "execution_count": null,
   "id": "6782f8c5",
   "metadata": {},
   "outputs": [],
   "source": [
    "a = listas[0][0] # Pega o primeiro elementos da primeira lista"
   ]
  },
  {
   "cell_type": "code",
   "execution_count": null,
   "id": "6cd81d94",
   "metadata": {},
   "outputs": [],
   "source": [
    "b = listas[1][2] # Pega o terceiro elemento da segunda lista"
   ]
  },
  {
   "cell_type": "code",
   "execution_count": null,
   "id": "056b3bd0",
   "metadata": {},
   "outputs": [],
   "source": [
    "c = listas[0][2] + 10 # Pega o terceiro elemento da primeira lista e soma 10 se for INT ou Float"
   ]
  },
  {
   "cell_type": "code",
   "execution_count": 38,
   "id": "5aa4a3ea",
   "metadata": {},
   "outputs": [
    {
     "data": {
      "text/plain": [
       "13"
      ]
     },
     "execution_count": 38,
     "metadata": {},
     "output_type": "execute_result"
    }
   ],
   "source": [
    "c"
   ]
  },
  {
   "cell_type": "code",
   "execution_count": 39,
   "id": "b4b4f256",
   "metadata": {},
   "outputs": [],
   "source": [
    "d = 10"
   ]
  },
  {
   "cell_type": "code",
   "execution_count": 40,
   "id": "a558fc8c",
   "metadata": {},
   "outputs": [
    {
     "data": {
      "text/plain": [
       "10"
      ]
     },
     "execution_count": 40,
     "metadata": {},
     "output_type": "execute_result"
    }
   ],
   "source": [
    "d"
   ]
  },
  {
   "cell_type": "code",
   "execution_count": 42,
   "id": "dbdf895e",
   "metadata": {},
   "outputs": [],
   "source": [
    "e = d * listas[2][0] # Multiplica o valor 10 pelo primeiro elemento da terceira lista"
   ]
  },
  {
   "cell_type": "code",
   "execution_count": 43,
   "id": "6faaf6c0",
   "metadata": {},
   "outputs": [
    {
     "data": {
      "text/plain": [
       "101.0"
      ]
     },
     "execution_count": 43,
     "metadata": {},
     "output_type": "execute_result"
    }
   ],
   "source": [
    "e"
   ]
  },
  {
   "cell_type": "markdown",
   "id": "9c7217dd",
   "metadata": {},
   "source": [
    "**Concatenando Listas**"
   ]
  },
  {
   "cell_type": "code",
   "execution_count": 44,
   "id": "c53f93c7",
   "metadata": {},
   "outputs": [],
   "source": [
    "lista_s1 = [34, 32, 56]"
   ]
  },
  {
   "cell_type": "code",
   "execution_count": 45,
   "id": "c847532e",
   "metadata": {},
   "outputs": [
    {
     "data": {
      "text/plain": [
       "[34, 32, 56]"
      ]
     },
     "execution_count": 45,
     "metadata": {},
     "output_type": "execute_result"
    }
   ],
   "source": [
    "lista_s1"
   ]
  },
  {
   "cell_type": "code",
   "execution_count": 46,
   "id": "389a019e",
   "metadata": {},
   "outputs": [],
   "source": [
    "lista_s2 = [21, 90, 51]"
   ]
  },
  {
   "cell_type": "code",
   "execution_count": 47,
   "id": "9f8a1064",
   "metadata": {},
   "outputs": [
    {
     "data": {
      "text/plain": [
       "[21, 90, 51]"
      ]
     },
     "execution_count": 47,
     "metadata": {},
     "output_type": "execute_result"
    }
   ],
   "source": [
    "lista_s2"
   ]
  },
  {
   "cell_type": "code",
   "execution_count": null,
   "id": "70602aea",
   "metadata": {},
   "outputs": [
    {
     "data": {
      "text/plain": [
       "[34, 32, 56, 21, 90, 51]"
      ]
     },
     "execution_count": 48,
     "metadata": {},
     "output_type": "execute_result"
    }
   ],
   "source": [
    "lista_total = lista_s1 + lista_s2  # Concatenando as duas listas\n",
    "lista_total                         # Imprimindo a lista concatenada, ela não faz a soma dos valores\n",
    "                                    # apenas concatena as listas"
   ]
  },
  {
   "cell_type": "markdown",
   "id": "4a9c19c2",
   "metadata": {},
   "source": [
    "**Operador In**"
   ]
  },
  {
   "cell_type": "code",
   "execution_count": 49,
   "id": "ff7440f0",
   "metadata": {},
   "outputs": [],
   "source": [
    "lista_teste_op = [100, 2, -5, 3.4]"
   ]
  },
  {
   "cell_type": "code",
   "execution_count": 50,
   "id": "a1ebf7a5",
   "metadata": {},
   "outputs": [
    {
     "name": "stdout",
     "output_type": "stream",
     "text": [
      "False\n"
     ]
    }
   ],
   "source": [
    "print(10 in lista_teste_op)  # Verifica se o valor 10 está na lista, retorna False"
   ]
  },
  {
   "cell_type": "code",
   "execution_count": 51,
   "id": "dad6909f",
   "metadata": {},
   "outputs": [
    {
     "name": "stdout",
     "output_type": "stream",
     "text": [
      "True\n"
     ]
    }
   ],
   "source": [
    "print(100 in lista_teste_op)  # Verifica se o valor 100 está na lista, retorna True"
   ]
  },
  {
   "cell_type": "markdown",
   "id": "bef12247",
   "metadata": {},
   "source": [
    "**Função Built-in**"
   ]
  },
  {
   "cell_type": "code",
   "execution_count": 52,
   "id": "326eaccb",
   "metadata": {},
   "outputs": [],
   "source": [
    "lista_numeros = [10, 20, 50, -3.4]"
   ]
  },
  {
   "cell_type": "code",
   "execution_count": 53,
   "id": "4583a633",
   "metadata": {},
   "outputs": [
    {
     "data": {
      "text/plain": [
       "4"
      ]
     },
     "execution_count": 53,
     "metadata": {},
     "output_type": "execute_result"
    }
   ],
   "source": [
    "len(lista_numeros)  # Retorna o tamanho da lista, ou seja, quantos elementos tem na lista"
   ]
  },
  {
   "cell_type": "code",
   "execution_count": 54,
   "id": "f595653b",
   "metadata": {},
   "outputs": [
    {
     "data": {
      "text/plain": [
       "50"
      ]
     },
     "execution_count": 54,
     "metadata": {},
     "output_type": "execute_result"
    }
   ],
   "source": [
    "max(lista_numeros)  # Retorna o maior valor da lista"
   ]
  },
  {
   "cell_type": "code",
   "execution_count": 55,
   "id": "ae03bc28",
   "metadata": {},
   "outputs": [
    {
     "data": {
      "text/plain": [
       "-3.4"
      ]
     },
     "execution_count": 55,
     "metadata": {},
     "output_type": "execute_result"
    }
   ],
   "source": [
    "min(lista_numeros)  # Retorna o menor valor da lista"
   ]
  },
  {
   "cell_type": "code",
   "execution_count": 56,
   "id": "1e9d4413",
   "metadata": {},
   "outputs": [],
   "source": [
    "lista_formacoes_dsa = [\"Analista de Dados\", \"Cientista de Dados\", \"Engenheiro de Dados\"]"
   ]
  },
  {
   "cell_type": "code",
   "execution_count": 64,
   "id": "1c29fc99",
   "metadata": {},
   "outputs": [
    {
     "data": {
      "text/plain": [
       "['Analista de Dados',\n",
       " 'Cientista de Dados',\n",
       " 'Engenheiro de Dados',\n",
       " 'Arquiteto de Dados',\n",
       " 'Arquiteto de Dados',\n",
       " 'Arquiteto de Dados',\n",
       " 'Arquiteto de Dados',\n",
       " 'Arquiteto de Dados',\n",
       " 'Arquiteto de Dados',\n",
       " 'Arquiteto de Dados',\n",
       " 'Arquiteto de Dados',\n",
       " 'Arquiteto de Dados',\n",
       " 'Arquiteto de Dados']"
      ]
     },
     "execution_count": 64,
     "metadata": {},
     "output_type": "execute_result"
    }
   ],
   "source": [
    "lista_formacoes_dsa  # Imprimindo a lista de formações DSA"
   ]
  },
  {
   "cell_type": "code",
   "execution_count": 75,
   "id": "a325210c",
   "metadata": {},
   "outputs": [
    {
     "data": {
      "text/plain": [
       "['Analista de Dados',\n",
       " 'Cientista de Dados',\n",
       " 'Engenheiro de Dados',\n",
       " 'Arquiteto de Dados']"
      ]
     },
     "execution_count": 75,
     "metadata": {},
     "output_type": "execute_result"
    }
   ],
   "source": [
    "lista_formacoes_dsa.append(\"Arquiteto de Dados\") # Adicionando uma nova formação à lista\n",
    "lista_formacoes_dsa"
   ]
  },
  {
   "cell_type": "code",
   "execution_count": 76,
   "id": "411514f6",
   "metadata": {},
   "outputs": [],
   "source": [
    "# é possivel adicionar valores iguais aos que ja adicionou na lista\n",
    "lista_formacoes_dsa.append(\"Arquiteto de Dados\")\n",
    "# Adicionando mais uma formação à lista"
   ]
  },
  {
   "cell_type": "code",
   "execution_count": 77,
   "id": "e27bcd43",
   "metadata": {},
   "outputs": [
    {
     "data": {
      "text/plain": [
       "['Analista de Dados',\n",
       " 'Cientista de Dados',\n",
       " 'Engenheiro de Dados',\n",
       " 'Arquiteto de Dados',\n",
       " 'Arquiteto de Dados']"
      ]
     },
     "execution_count": 77,
     "metadata": {},
     "output_type": "execute_result"
    }
   ],
   "source": [
    "lista_formacoes_dsa  # Imprimindo a lista de formações DSA"
   ]
  },
  {
   "cell_type": "code",
   "execution_count": 78,
   "id": "6dd83c42",
   "metadata": {},
   "outputs": [],
   "source": [
    "a = [ ] # Criando uma lista vazia"
   ]
  },
  {
   "cell_type": "code",
   "execution_count": 79,
   "id": "ee5cc9c2",
   "metadata": {},
   "outputs": [
    {
     "name": "stdout",
     "output_type": "stream",
     "text": [
      "[]\n"
     ]
    }
   ],
   "source": [
    "print(a)"
   ]
  },
  {
   "cell_type": "code",
   "execution_count": 80,
   "id": "118cbeb1",
   "metadata": {},
   "outputs": [
    {
     "data": {
      "text/plain": [
       "list"
      ]
     },
     "execution_count": 80,
     "metadata": {},
     "output_type": "execute_result"
    }
   ],
   "source": [
    "type(a)"
   ]
  },
  {
   "cell_type": "code",
   "execution_count": 81,
   "id": "07e72532",
   "metadata": {},
   "outputs": [],
   "source": [
    "a.append(10)  # Adicionando o valor 10 à lista vazia"
   ]
  },
  {
   "cell_type": "code",
   "execution_count": 82,
   "id": "a94c4953",
   "metadata": {},
   "outputs": [
    {
     "data": {
      "text/plain": [
       "[10]"
      ]
     },
     "execution_count": 82,
     "metadata": {},
     "output_type": "execute_result"
    }
   ],
   "source": [
    "a"
   ]
  },
  {
   "cell_type": "code",
   "execution_count": 83,
   "id": "e87eb118",
   "metadata": {},
   "outputs": [],
   "source": [
    "a.append(50) # Adicionando o valor 50 a lista"
   ]
  },
  {
   "cell_type": "code",
   "execution_count": 84,
   "id": "549ccd07",
   "metadata": {},
   "outputs": [
    {
     "data": {
      "text/plain": [
       "[10, 50]"
      ]
     },
     "execution_count": 84,
     "metadata": {},
     "output_type": "execute_result"
    }
   ],
   "source": [
    "a"
   ]
  },
  {
   "cell_type": "code",
   "execution_count": 85,
   "id": "39e1270a",
   "metadata": {},
   "outputs": [],
   "source": [
    "old_list = [ 1, 2, 5, 10]"
   ]
  },
  {
   "cell_type": "code",
   "execution_count": 86,
   "id": "738f3cf8",
   "metadata": {},
   "outputs": [],
   "source": [
    "new_list = [ ]"
   ]
  },
  {
   "cell_type": "code",
   "execution_count": 88,
   "id": "345f0e35",
   "metadata": {},
   "outputs": [],
   "source": [
    "# Copiando os itens de uma lista para outra\n",
    "for item in old_list:\n",
    "    new_list.append(item)  # Adiciona cada item da old_list na new_list"
   ]
  },
  {
   "cell_type": "code",
   "execution_count": 89,
   "id": "8dc077ab",
   "metadata": {},
   "outputs": [
    {
     "data": {
      "text/plain": [
       "[1, 2, 5, 10]"
      ]
     },
     "execution_count": 89,
     "metadata": {},
     "output_type": "execute_result"
    }
   ],
   "source": [
    "new_list"
   ]
  },
  {
   "cell_type": "code",
   "execution_count": 90,
   "id": "80fcf7d1",
   "metadata": {},
   "outputs": [],
   "source": [
    "cidades = ['Recife', 'Manaus', 'Salvador']"
   ]
  },
  {
   "cell_type": "code",
   "execution_count": 91,
   "id": "ff44ee42",
   "metadata": {},
   "outputs": [
    {
     "name": "stdout",
     "output_type": "stream",
     "text": [
      "['Recife', 'Manaus', 'Salvador', 'Fortaleza,', 'Palmas']\n"
     ]
    }
   ],
   "source": [
    "cidades.extend(['Fortaleza,', 'Palmas'])\n",
    "print(cidades)"
   ]
  },
  {
   "cell_type": "code",
   "execution_count": 93,
   "id": "f238f39a",
   "metadata": {},
   "outputs": [
    {
     "data": {
      "text/plain": [
       "2"
      ]
     },
     "execution_count": 93,
     "metadata": {},
     "output_type": "execute_result"
    }
   ],
   "source": [
    "cidades.index('Salvador')"
   ]
  },
  {
   "cell_type": "code",
   "execution_count": null,
   "id": "a683ba2c",
   "metadata": {},
   "outputs": [
    {
     "ename": "ValueError",
     "evalue": "'Rio de Janeiro' is not in list",
     "output_type": "error",
     "traceback": [
      "\u001b[1;31m---------------------------------------------------------------------------\u001b[0m",
      "\u001b[1;31mValueError\u001b[0m                                Traceback (most recent call last)",
      "Cell \u001b[1;32mIn[92], line 1\u001b[0m\n\u001b[1;32m----> 1\u001b[0m cidades\u001b[38;5;241m.\u001b[39mindex(\u001b[38;5;124m'\u001b[39m\u001b[38;5;124mRio de Janeiro\u001b[39m\u001b[38;5;124m'\u001b[39m)\n",
      "\u001b[1;31mValueError\u001b[0m: 'Rio de Janeiro' is not in list"
     ]
    }
   ],
   "source": [
    "cidades.index('Rio de Janeiro') # ao tentar achar o index de um valor inexsistente, se retorna erro."
   ]
  },
  {
   "cell_type": "code",
   "execution_count": 94,
   "id": "80159d36",
   "metadata": {},
   "outputs": [
    {
     "data": {
      "text/plain": [
       "['Recife', 'Manaus', 'Salvador', 'Fortaleza,', 'Palmas']"
      ]
     },
     "execution_count": 94,
     "metadata": {},
     "output_type": "execute_result"
    }
   ],
   "source": [
    "cidades"
   ]
  },
  {
   "cell_type": "code",
   "execution_count": null,
   "id": "81c0ded4",
   "metadata": {},
   "outputs": [],
   "source": [
    "cidades.insert(2, 110) # Na posição 3, adicione valor \"110\""
   ]
  },
  {
   "cell_type": "code",
   "execution_count": 96,
   "id": "d7fdcb0c",
   "metadata": {},
   "outputs": [
    {
     "data": {
      "text/plain": [
       "['Recife', 'Manaus', 110, 'Salvador', 'Fortaleza,', 'Palmas']"
      ]
     },
     "execution_count": 96,
     "metadata": {},
     "output_type": "execute_result"
    }
   ],
   "source": [
    "cidades"
   ]
  },
  {
   "cell_type": "code",
   "execution_count": 97,
   "id": "a2452ad4",
   "metadata": {},
   "outputs": [],
   "source": [
    "cidades.remove(110) # Remove o valor 110"
   ]
  },
  {
   "cell_type": "code",
   "execution_count": null,
   "id": "e3d53128",
   "metadata": {},
   "outputs": [],
   "source": [
    "cidades.reverse() # Inverte a ordem dos elementos na lista"
   ]
  },
  {
   "cell_type": "code",
   "execution_count": 99,
   "id": "b98744b4",
   "metadata": {},
   "outputs": [
    {
     "data": {
      "text/plain": [
       "['Palmas', 'Fortaleza,', 'Salvador', 'Manaus', 'Recife']"
      ]
     },
     "execution_count": 99,
     "metadata": {},
     "output_type": "execute_result"
    }
   ],
   "source": [
    "cidades"
   ]
  },
  {
   "cell_type": "code",
   "execution_count": 100,
   "id": "ec0dd44f",
   "metadata": {},
   "outputs": [],
   "source": [
    "x = [3, 4, 2, 1]"
   ]
  },
  {
   "cell_type": "code",
   "execution_count": 101,
   "id": "e1da80e5",
   "metadata": {},
   "outputs": [
    {
     "data": {
      "text/plain": [
       "[3, 4, 2, 1]"
      ]
     },
     "execution_count": 101,
     "metadata": {},
     "output_type": "execute_result"
    }
   ],
   "source": [
    "x"
   ]
  },
  {
   "cell_type": "code",
   "execution_count": 102,
   "id": "b2f1e0d7",
   "metadata": {},
   "outputs": [],
   "source": [
    "x.sort() # Ordena a lista em ordem crescente"
   ]
  },
  {
   "cell_type": "code",
   "execution_count": 103,
   "id": "87c43e41",
   "metadata": {},
   "outputs": [
    {
     "data": {
      "text/plain": [
       "[1, 2, 3, 4]"
      ]
     },
     "execution_count": 103,
     "metadata": {},
     "output_type": "execute_result"
    }
   ],
   "source": [
    "x"
   ]
  },
  {
   "cell_type": "markdown",
   "id": "534cf5af",
   "metadata": {},
   "source": [
    "**Fim da parte 4**"
   ]
  }
 ],
 "metadata": {
  "kernelspec": {
   "display_name": "base",
   "language": "python",
   "name": "python3"
  },
  "language_info": {
   "codemirror_mode": {
    "name": "ipython",
    "version": 3
   },
   "file_extension": ".py",
   "mimetype": "text/x-python",
   "name": "python",
   "nbconvert_exporter": "python",
   "pygments_lexer": "ipython3",
   "version": "3.13.5"
  }
 },
 "nbformat": 4,
 "nbformat_minor": 5
}
