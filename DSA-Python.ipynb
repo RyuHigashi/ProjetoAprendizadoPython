{
 "cells": [
  {
   "cell_type": "markdown",
   "id": "1d8151d3",
   "metadata": {},
   "source": [
    "**Começo Introdutorio de Python na DSA**\n"
   ]
  },
  {
   "cell_type": "markdown",
   "id": "ba6fcc93",
   "metadata": {},
   "source": [
    "**1 - Criação de uma calculadora simples a partir de um pseudocodigo sobre a area do paralelogramo, com a informação de comprimento e altura.**"
   ]
  },
  {
   "cell_type": "code",
   "execution_count": 3,
   "id": "257c991a",
   "metadata": {},
   "outputs": [
    {
     "name": "stdout",
     "output_type": "stream",
     "text": [
      "Bem-Vindo ao Calculador de Área de Páralelogramo\n",
      "A Área do paralelogramo é: 50.0\n"
     ]
    }
   ],
   "source": [
    "boas_vindas = \"Bem-Vindo ao Calculador de Área de Páralelogramo\"\n",
    "print(boas_vindas)\n",
    "\n",
    "comp = float(input(\"Digite o comprimento da base: \"))\n",
    "alt = float(input(\"Digite a altura da base: \"))\n",
    "\n",
    "area = comp * alt\n",
    "\n",
    "print(f\"A Área do paralelogramo é: {area}\")"
   ]
  },
  {
   "cell_type": "markdown",
   "id": "01a1667e",
   "metadata": {},
   "source": [
    "**2 - Criação de uma calculadora simples com os sinais padrões de \"+\", \"-\", \"x\" e \"/\".**"
   ]
  },
  {
   "cell_type": "code",
   "execution_count": 13,
   "id": "80c4976e",
   "metadata": {},
   "outputs": [
    {
     "name": "stdout",
     "output_type": "stream",
     "text": [
      "Calculadora Simples\n",
      "A Soma é de : 17.0\n"
     ]
    }
   ],
   "source": [
    "print(\"Calculadora Simples\")\n",
    "\n",
    "firstNumber = float(input(\"Digite o primeiro Numero: \"))\n",
    "secondNumber = float(input(\"Digite o segundo Numero: \"))\n",
    "\n",
    "soma = firstNumber + secondNumber\n",
    "sub = firstNumber - secondNumber\n",
    "mult = firstNumber * secondNumber\n",
    "div = firstNumber / secondNumber\n",
    "\n",
    "signal = (input( \"+\\n\" \\\n",
    "                \"-\\n\" \\\n",
    "                \"*\\n\" \\\n",
    "                \"/\\n\" \\\n",
    "                \"Qual operação deseja: \"))\n",
    "\n",
    "if signal == \"+\":\n",
    "    print(f\"A Soma é de : {soma}\")\n",
    "elif signal == '-':\n",
    "    print(f\"A Subtração é de : {sub}\")\n",
    "elif signal == \"*\":\n",
    "    print(f\"A Multiplicação é de : {mult}\")\n",
    "elif signal == \"/\":\n",
    "    print(f\"A Divisão é de : {div}\")\n",
    "else:\n",
    "    print(\"Operação Invalida!\")\n"
   ]
  },
  {
   "cell_type": "markdown",
   "id": "117c4b76",
   "metadata": {},
   "source": [
    "**3 - Bubble Sort**"
   ]
  },
  {
   "cell_type": "code",
   "execution_count": 14,
   "id": "0e6c59c4",
   "metadata": {},
   "outputs": [],
   "source": [
    "lista = [12, 7, 3, 5, 9]"
   ]
  },
  {
   "cell_type": "code",
   "execution_count": null,
   "id": "6b2db2ec",
   "metadata": {},
   "outputs": [],
   "source": []
  }
 ],
 "metadata": {
  "kernelspec": {
   "display_name": "Python 3",
   "language": "python",
   "name": "python3"
  },
  "language_info": {
   "codemirror_mode": {
    "name": "ipython",
    "version": 3
   },
   "file_extension": ".py",
   "mimetype": "text/x-python",
   "name": "python",
   "nbconvert_exporter": "python",
   "pygments_lexer": "ipython3",
   "version": "3.13.3"
  }
 },
 "nbformat": 4,
 "nbformat_minor": 5
}
